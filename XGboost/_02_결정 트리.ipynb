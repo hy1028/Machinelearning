{
 "cells": [
  {
   "cell_type": "code",
   "execution_count": 2,
   "id": "ef69fdf6",
   "metadata": {},
   "outputs": [],
   "source": [
    "import pandas as pd\n",
    "import numpy as np\n",
    "from sklearn.model_selection import train_test_split"
   ]
  },
  {
   "cell_type": "code",
   "execution_count": 3,
   "id": "1cc98fdc",
   "metadata": {},
   "outputs": [],
   "source": [
    "df_bikes = pd.read_csv('bike_rentals_cleaned.csv')\n",
    "X_bikes = df_bikes.iloc[:, :-1]\n",
    "y_bikes = df_bikes.iloc[:, -1]\n",
    "from sklearn.linear_model import LinearRegression\n",
    "X_train, X_test, y_train, y_test = train_test_split(X_bikes, y_bikes, random_state=2)"
   ]
  },
  {
   "cell_type": "code",
   "execution_count": 4,
   "id": "2e529617",
   "metadata": {},
   "outputs": [],
   "source": [
    "from sklearn.tree import DecisionTreeRegressor\n",
    "from sklearn.model_selection import cross_val_score"
   ]
  },
  {
   "cell_type": "code",
   "execution_count": 5,
   "id": "2aadde0a",
   "metadata": {},
   "outputs": [],
   "source": [
    "reg = DecisionTreeRegressor(random_state=2)\n",
    "scores = cross_val_score(reg, X_bikes, y_bikes, scoring='neg_mean_squared_error', cv=5)"
   ]
  },
  {
   "cell_type": "code",
   "execution_count": 8,
   "id": "1820ff70",
   "metadata": {},
   "outputs": [
    {
     "name": "stdout",
     "output_type": "stream",
     "text": [
      "RMSE 평균: 1233.36\n"
     ]
    }
   ],
   "source": [
    "rmse = np.sqrt(-scores)\n",
    "print(f'RMSE 평균: {rmse.mean():0.2f}')"
   ]
  },
  {
   "cell_type": "code",
   "execution_count": 10,
   "id": "a8e599c7",
   "metadata": {},
   "outputs": [
    {
     "data": {
      "text/plain": [
       "0.0"
      ]
     },
     "execution_count": 10,
     "metadata": {},
     "output_type": "execute_result"
    }
   ],
   "source": [
    "reg = DecisionTreeRegressor()\n",
    "reg.fit(X_train, y_train)\n",
    "y_pred = reg.predict(X_train)\n",
    "from sklearn.metrics import mean_squared_error\n",
    "reg_mse = mean_squared_error(y_train, y_pred)\n",
    "reg_rmse = np.sqrt(reg_mse)\n",
    "reg_rmse"
   ]
  },
  {
   "cell_type": "markdown",
   "id": "cc5c89a0",
   "metadata": {},
   "source": [
    "train set에 대한 RMSE값이 0인 것으로 보아 과대적합되어 분산이 크다는 것을 알 수 있음"
   ]
  },
  {
   "cell_type": "markdown",
   "id": "d0e938d3",
   "metadata": {},
   "source": [
    "### 2.4.2 하이퍼파라미터\n",
    "\n",
    "max_depth\n",
    "- 트리의 깊이를 정의한다. (깊이는 분할 횟수를 결정)  \n",
    "- max_depth의 기본 값은 None으로 제한이 없다. (과대적합을 만든다.)  \n",
    "- max_depth를 작은 값으로 제한하면 분산이 줄어들고 모델이 새로운 데이터에 잘 일반화 됨.  \n",
    "\n",
    "min_samples_leaf\n",
    "- 리프 노드가 가질 수 있는 최소 샘플의 개수를 제한\n",
    "- 기본값은 1로 제한이 없을 때 리프 노드는 하나의 샘플로 구성될 수 있다. (과대적합 되기 쉬움)\n",
    "\n",
    "max_leaf_nodes\n",
    "- 리프 노드의 샘플 개수를 지정하는 대신 리프 노드의 전체 개수를 지정하여 과대 적합을 막는다. \n",
    "\n",
    "max_features\n",
    "- 분할마다 모든 특성을 고려하지 않고 매번 지정된 개수의 특성 중에서 선택한다. \n",
    "- 분산을 줄이는데 효과적인 매개변수이다. \n",
    "\n",
    "min_samples_split\n",
    "- 분할하기 위해 필요한 최소 샘플 개수를 제한\n",
    "\n",
    "min_impurity_decrease\n",
    "- 분할하기 위한 최소 불순도 감소를 지정\n",
    "  \n",
    "GridSearchCV\n",
    "- 교차 검증을 사용해 최선의 결과를 만드는 매개변수 조합을 찾는다.  \n",
    "- GridSearchCV의 핵심은 매개변수 값의 딕셔너리를 만드는 것  "
   ]
  },
  {
   "cell_type": "code",
   "execution_count": 11,
   "id": "11eea2a7",
   "metadata": {},
   "outputs": [],
   "source": [
    "from sklearn.model_selection import GridSearchCV\n",
    "params = {'max_depth':[None, 2, 3, 4, 5, 6, 8, 10, 20]}"
   ]
  },
  {
   "cell_type": "code",
   "execution_count": 13,
   "id": "7f4173df",
   "metadata": {},
   "outputs": [
    {
     "data": {
      "text/plain": [
       "GridSearchCV(cv=5, estimator=DecisionTreeRegressor(random_state=2), n_jobs=-1,\n",
       "             param_grid={'max_depth': [None, 2, 3, 4, 5, 6, 8, 10, 20]},\n",
       "             return_train_score=True, scoring='neg_mean_squared_error')"
      ]
     },
     "execution_count": 13,
     "metadata": {},
     "output_type": "execute_result"
    }
   ],
   "source": [
    "reg = DecisionTreeRegressor(random_state=2)\n",
    "grid_reg = GridSearchCV(reg, params, scoring='neg_mean_squared_error', \n",
    "                       cv=5, return_train_score=True, n_jobs=-1)\n",
    "grid_reg.fit(X_train, y_train)"
   ]
  },
  {
   "cell_type": "code",
   "execution_count": 14,
   "id": "a61b8f2a",
   "metadata": {},
   "outputs": [
    {
     "name": "stdout",
     "output_type": "stream",
     "text": [
      "최상의 매개변수: {'max_depth': 6}\n"
     ]
    }
   ],
   "source": [
    "best_params = grid_reg.best_params_\n",
    "print(\"최상의 매개변수:\", best_params)"
   ]
  },
  {
   "cell_type": "code",
   "execution_count": 17,
   "id": "413e0af5",
   "metadata": {},
   "outputs": [
    {
     "name": "stdout",
     "output_type": "stream",
     "text": [
      "훈련 점수: 951.398\n"
     ]
    }
   ],
   "source": [
    "best_score = np.sqrt(-grid_reg.best_score_)\n",
    "print(f'훈련 점수: {best_score:.3f}')"
   ]
  },
  {
   "cell_type": "code",
   "execution_count": 18,
   "id": "f759be7b",
   "metadata": {},
   "outputs": [
    {
     "name": "stdout",
     "output_type": "stream",
     "text": [
      "테스트 점수: 864.670\n"
     ]
    }
   ],
   "source": [
    "best_model = grid_reg.best_estimator_\n",
    "y_pred = best_model.predict(X_test)\n",
    "from sklearn.metrics import mean_squared_error \n",
    "rmse_test = mean_squared_error(y_test, y_pred)**0.5\n",
    "print(f'테스트 점수: {rmse_test:.3f}')"
   ]
  },
  {
   "cell_type": "markdown",
   "id": "cda0d909",
   "metadata": {},
   "source": [
    "## 2.5 심장 질환 예측하기 - 사례 연구\n",
    "모델을 만든 후 심장 질환을 예측하는데 가장 중요한 특성을 알려주는 feature_importances_ 속성을 사용해 결과를 해석해본다. "
   ]
  },
  {
   "cell_type": "code",
   "execution_count": 22,
   "id": "b88bc885",
   "metadata": {},
   "outputs": [
    {
     "data": {
      "text/html": [
       "<div>\n",
       "<style scoped>\n",
       "    .dataframe tbody tr th:only-of-type {\n",
       "        vertical-align: middle;\n",
       "    }\n",
       "\n",
       "    .dataframe tbody tr th {\n",
       "        vertical-align: top;\n",
       "    }\n",
       "\n",
       "    .dataframe thead th {\n",
       "        text-align: right;\n",
       "    }\n",
       "</style>\n",
       "<table border=\"1\" class=\"dataframe\">\n",
       "  <thead>\n",
       "    <tr style=\"text-align: right;\">\n",
       "      <th></th>\n",
       "      <th>age</th>\n",
       "      <th>sex</th>\n",
       "      <th>cp</th>\n",
       "      <th>trestbps</th>\n",
       "      <th>chol</th>\n",
       "      <th>fbs</th>\n",
       "      <th>restecg</th>\n",
       "      <th>thalach</th>\n",
       "      <th>exang</th>\n",
       "      <th>oldpeak</th>\n",
       "      <th>slope</th>\n",
       "      <th>ca</th>\n",
       "      <th>thal</th>\n",
       "      <th>target</th>\n",
       "    </tr>\n",
       "  </thead>\n",
       "  <tbody>\n",
       "    <tr>\n",
       "      <th>0</th>\n",
       "      <td>63</td>\n",
       "      <td>1</td>\n",
       "      <td>3</td>\n",
       "      <td>145</td>\n",
       "      <td>233</td>\n",
       "      <td>1</td>\n",
       "      <td>0</td>\n",
       "      <td>150</td>\n",
       "      <td>0</td>\n",
       "      <td>2.3</td>\n",
       "      <td>0</td>\n",
       "      <td>0</td>\n",
       "      <td>1</td>\n",
       "      <td>1</td>\n",
       "    </tr>\n",
       "    <tr>\n",
       "      <th>1</th>\n",
       "      <td>37</td>\n",
       "      <td>1</td>\n",
       "      <td>2</td>\n",
       "      <td>130</td>\n",
       "      <td>250</td>\n",
       "      <td>0</td>\n",
       "      <td>1</td>\n",
       "      <td>187</td>\n",
       "      <td>0</td>\n",
       "      <td>3.5</td>\n",
       "      <td>0</td>\n",
       "      <td>0</td>\n",
       "      <td>2</td>\n",
       "      <td>1</td>\n",
       "    </tr>\n",
       "    <tr>\n",
       "      <th>2</th>\n",
       "      <td>41</td>\n",
       "      <td>0</td>\n",
       "      <td>1</td>\n",
       "      <td>130</td>\n",
       "      <td>204</td>\n",
       "      <td>0</td>\n",
       "      <td>0</td>\n",
       "      <td>172</td>\n",
       "      <td>0</td>\n",
       "      <td>1.4</td>\n",
       "      <td>2</td>\n",
       "      <td>0</td>\n",
       "      <td>2</td>\n",
       "      <td>1</td>\n",
       "    </tr>\n",
       "    <tr>\n",
       "      <th>3</th>\n",
       "      <td>56</td>\n",
       "      <td>1</td>\n",
       "      <td>1</td>\n",
       "      <td>120</td>\n",
       "      <td>236</td>\n",
       "      <td>0</td>\n",
       "      <td>1</td>\n",
       "      <td>178</td>\n",
       "      <td>0</td>\n",
       "      <td>0.8</td>\n",
       "      <td>2</td>\n",
       "      <td>0</td>\n",
       "      <td>2</td>\n",
       "      <td>1</td>\n",
       "    </tr>\n",
       "    <tr>\n",
       "      <th>4</th>\n",
       "      <td>57</td>\n",
       "      <td>0</td>\n",
       "      <td>0</td>\n",
       "      <td>120</td>\n",
       "      <td>354</td>\n",
       "      <td>0</td>\n",
       "      <td>1</td>\n",
       "      <td>163</td>\n",
       "      <td>1</td>\n",
       "      <td>0.6</td>\n",
       "      <td>2</td>\n",
       "      <td>0</td>\n",
       "      <td>2</td>\n",
       "      <td>1</td>\n",
       "    </tr>\n",
       "  </tbody>\n",
       "</table>\n",
       "</div>"
      ],
      "text/plain": [
       "   age  sex  cp  trestbps  chol  fbs  restecg  thalach  exang  oldpeak  slope  \\\n",
       "0   63    1   3       145   233    1        0      150      0      2.3      0   \n",
       "1   37    1   2       130   250    0        1      187      0      3.5      0   \n",
       "2   41    0   1       130   204    0        0      172      0      1.4      2   \n",
       "3   56    1   1       120   236    0        1      178      0      0.8      2   \n",
       "4   57    0   0       120   354    0        1      163      1      0.6      2   \n",
       "\n",
       "   ca  thal  target  \n",
       "0   0     1       1  \n",
       "1   0     2       1  \n",
       "2   0     2       1  \n",
       "3   0     2       1  \n",
       "4   0     2       1  "
      ]
     },
     "execution_count": 22,
     "metadata": {},
     "output_type": "execute_result"
    }
   ],
   "source": [
    "data_path = 'handson-gb-main/Chapter02/heart_disease.csv'\n",
    "df_heart = pd.read_csv(data_path)\n",
    "df_heart.head()"
   ]
  },
  {
   "cell_type": "markdown",
   "id": "662db78f",
   "metadata": {},
   "source": [
    "cp: chest pain(1=전형적인 협심증, 2=비전형적인 협심증, 3=협심증이 아닌 통증, 4=무증상)  \n",
    "trestbps: 안정혈압  \n",
    "chol: 혈청 콜레스테롤  \n",
    "fbs: 공복혈당  \n",
    "restecg: 심전도 결과  \n",
    "thalach: 최대 심장 박동수  \n",
    "exang: 운동으로 인한 협심증  \n",
    "oldpeak: 휴식 대비 운동으로 인한 ST 감소  \n",
    "slope: 최대 운동 ST 세그먼트 기울기(1=상승 기울기, 2=수평, 3=하강 기울기)  \n",
    "ca: 형광 투시로 착색된 주요 혈관 수(0-3)  \n",
    "thal: 탈륨 스트레스 테스트, (3=정상, 6=고정 결함, 7=가역적 결함)  \n"
   ]
  },
  {
   "cell_type": "code",
   "execution_count": 23,
   "id": "d6c8b15f",
   "metadata": {},
   "outputs": [],
   "source": [
    "X = df_heart.iloc[:, :-1]\n",
    "y = df_heart.iloc[:, -1]\n",
    "X_train, X_test, y_train, y_test = train_test_split(X, y, random_state=2)"
   ]
  },
  {
   "cell_type": "code",
   "execution_count": 25,
   "id": "161fbbfc",
   "metadata": {},
   "outputs": [
    {
     "name": "stdout",
     "output_type": "stream",
     "text": [
      "정확도:  [0.74 0.85 0.77 0.73 0.7 ]\n",
      "정확도 평균: 0.76\n"
     ]
    }
   ],
   "source": [
    "from sklearn.tree import DecisionTreeClassifier\n",
    "model = DecisionTreeClassifier(random_state=2)\n",
    "scores = cross_val_score(model, X, y, cv=5)\n",
    "print('정확도: ', np.round(scores, 2))\n",
    "print(f'정확도 평균: {scores.mean():.2f}')"
   ]
  },
  {
   "cell_type": "markdown",
   "id": "0f109f2b",
   "metadata": {},
   "source": [
    "RandomizedSearchCV\n",
    "- 탐색할 하이퍼파라미터가 많을 때 GridSearchCV로 하이퍼파라미터 튜닝을 하면 너무 오랜 시간이 걸릴 수 있음\n",
    "- GridSearchCV와 동일한 방식으로 동작하지만 모든 하이퍼파라미터 조합을 테스트하는 대신 랜덤한 조합을 테스트한다. \n",
    "- 모든 값을 테스트하지 않으며 제한된 시간 안에 최상의 조합을 찾는다. "
   ]
  },
  {
   "cell_type": "code",
   "execution_count": 30,
   "id": "4c374587",
   "metadata": {},
   "outputs": [],
   "source": [
    "from sklearn.model_selection import RandomizedSearchCV\n",
    "from sklearn.metrics import accuracy_score\n",
    "def randomized_search_clf(params, runs=20, clf=DecisionTreeClassifier(random_state=2)):\n",
    "    rand_clf = RandomizedSearchCV(clf, params, n_iter=runs, cv=5, n_jobs=-1, random_state=2)\n",
    "    # n_iter : 시도할 매개변수 조합의 횟수\n",
    "    rand_clf.fit(X_train, y_train)\n",
    "    best_model = rand_clf.best_estimator_\n",
    "    best_score = rand_clf.best_score_\n",
    "    print(f\"훈련 점수: {best_score:.3f}\")\n",
    "    y_pred = best_model.predict(X_test)\n",
    "    accuracy = accuracy_score(y_test, y_pred)\n",
    "    print(f'테스트 점수: {accuracy:.3f}')\n",
    "    return best_model"
   ]
  },
  {
   "cell_type": "code",
   "execution_count": 36,
   "id": "cc5268cb",
   "metadata": {},
   "outputs": [
    {
     "name": "stdout",
     "output_type": "stream",
     "text": [
      "훈련 점수: 0.758\n",
      "테스트 점수: 0.789\n"
     ]
    },
    {
     "data": {
      "text/plain": [
       "DecisionTreeClassifier(criterion='entropy', max_depth=4, max_features=0.7,\n",
       "                       max_leaf_nodes=15, min_samples_split=3,\n",
       "                       min_weight_fraction_leaf=0.0025, random_state=2,\n",
       "                       splitter='random')"
      ]
     },
     "execution_count": 36,
     "metadata": {},
     "output_type": "execute_result"
    }
   ],
   "source": [
    "randomized_search_clf(\n",
    "    params={\n",
    "        'criterion':['entropy', 'gini'],\n",
    "        'splitter':['random', 'best'],\n",
    "        'min_samples_split':[2, 3, 4, 5, 6, 8, 10],\n",
    "        'min_samples_leaf':[1, 0.01, 0.02, 0.03, 0.04],\n",
    "        'max_leaf_nodes':[10, 15, 20, 25, 30, 35, 40, 45, 50, None], \n",
    "        'max_features':['auto', 0.95, 0.90, 0.85, 0.80, 0.75, 0.70],\n",
    "        'max_depth':[None, 2, 4, 6, 8],\n",
    "        'min_weight_fraction_leaf':[0.0, 0.0025, 0.005, 0.0075, 0.01, 0.05]\n",
    "    })"
   ]
  },
  {
   "cell_type": "code",
   "execution_count": 37,
   "id": "fac05e5f",
   "metadata": {},
   "outputs": [
    {
     "name": "stdout",
     "output_type": "stream",
     "text": [
      "훈련 점수: 0.802\n",
      "테스트 점수: 0.868\n"
     ]
    }
   ],
   "source": [
    "best_model = randomized_search_clf(\n",
    "    params={\n",
    "        'min_samples_split':[2, 9, 10],\n",
    "        'min_samples_leaf':[1, 0.035, 0.04, 0.045, 0.05],\n",
    "        'max_leaf_nodes':[45, None], \n",
    "        'max_features':['auto', 0.78],\n",
    "        'max_depth':[None, 6, 7],\n",
    "        'min_weight_fraction_leaf':[0.0, 0.05, 0.06, 0.07],\n",
    "        },\n",
    "    runs=100)"
   ]
  },
  {
   "cell_type": "code",
   "execution_count": 38,
   "id": "4e06e948",
   "metadata": {},
   "outputs": [
    {
     "name": "stdout",
     "output_type": "stream",
     "text": [
      "정확도:  [0.82 0.9  0.8  0.8  0.78]\n",
      "정확도 평균: 0.82\n"
     ]
    }
   ],
   "source": [
    "scores = cross_val_score(best_model, X, y, cv=5)\n",
    "print('정확도: ', np.round(scores, 2))\n",
    "print(f'정확도 평균: {scores.mean():.2f}')"
   ]
  },
  {
   "cell_type": "markdown",
   "id": "ad24a877",
   "metadata": {},
   "source": [
    "### 2.5.5 특성 중요도\n",
    "- 해당 머신러닝 모델에서 가장 중요한 특성을 확인\n",
    "- 결정 트리는 feature_importances 속성을 제공한다. "
   ]
  },
  {
   "cell_type": "code",
   "execution_count": 39,
   "id": "02e19393",
   "metadata": {},
   "outputs": [
    {
     "data": {
      "text/plain": [
       "DecisionTreeClassifier(max_depth=7, max_features=0.78, max_leaf_nodes=45,\n",
       "                       min_samples_leaf=0.045, min_samples_split=9,\n",
       "                       min_weight_fraction_leaf=0.06, random_state=2)"
      ]
     },
     "execution_count": 39,
     "metadata": {},
     "output_type": "execute_result"
    }
   ],
   "source": [
    "best_model.fit(X, y)"
   ]
  },
  {
   "cell_type": "code",
   "execution_count": 40,
   "id": "fb49622f",
   "metadata": {},
   "outputs": [
    {
     "data": {
      "text/plain": [
       "array([0.04826754, 0.04081653, 0.48409586, 0.00568635, 0.        ,\n",
       "       0.        , 0.        , 0.00859483, 0.        , 0.02690379,\n",
       "       0.        , 0.18069065, 0.20494446])"
      ]
     },
     "execution_count": 40,
     "metadata": {},
     "output_type": "execute_result"
    }
   ],
   "source": [
    "best_model.feature_importances_"
   ]
  },
  {
   "cell_type": "code",
   "execution_count": 41,
   "id": "5eaf3ae6",
   "metadata": {},
   "outputs": [
    {
     "data": {
      "text/plain": [
       "[('cp', 0.4840958610240171),\n",
       " ('thal', 0.20494445570568706),\n",
       " ('ca', 0.18069065321397942)]"
      ]
     },
     "execution_count": 41,
     "metadata": {},
     "output_type": "execute_result"
    }
   ],
   "source": [
    "feature_dict = dict(zip(X.columns, best_model.feature_importances_))\n",
    "import operator\n",
    "sorted(feature_dict.items(), key=operator.itemgetter(1), reverse=True)[0:3]"
   ]
  },
  {
   "cell_type": "code",
   "execution_count": null,
   "id": "90857ed5",
   "metadata": {},
   "outputs": [],
   "source": []
  }
 ],
 "metadata": {
  "kernelspec": {
   "display_name": "Python 3 (ipykernel)",
   "language": "python",
   "name": "python3"
  },
  "language_info": {
   "codemirror_mode": {
    "name": "ipython",
    "version": 3
   },
   "file_extension": ".py",
   "mimetype": "text/x-python",
   "name": "python",
   "nbconvert_exporter": "python",
   "pygments_lexer": "ipython3",
   "version": "3.9.13"
  }
 },
 "nbformat": 4,
 "nbformat_minor": 5
}
