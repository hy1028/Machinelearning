{
 "cells": [
  {
   "cell_type": "markdown",
   "id": "ce618fe1",
   "metadata": {},
   "source": [
    "1. 랜덤 포레스트는 결정 트리의 앙상블\n",
    "1. 랜덤 포레스트는 배깅을 통해 트리를 연결하고 XGBoost는 부스팅을 통해 트리를 연결한다. \n",
    "1. 랜덤 포레스트의 한계점으로 인해 그레이디언트 부스팅 개발이 촉진되었다. "
   ]
  },
  {
   "cell_type": "markdown",
   "id": "0a22402a",
   "metadata": {},
   "source": [
    "### 3.1.2 배깅\n",
    "- 부트스트래핑은 중복을 허용한 샘플링을 의미\n",
    "- 모든 결정 트리가 동일한 샘플로 만들어진다면 모두 비슷한 예측을 만들게 되고 앙상블한 결과도 개별 트리와 비슷해 질 것"
   ]
  },
  {
   "cell_type": "markdown",
   "id": "c6f0dbd8",
   "metadata": {},
   "source": [
    "## 3.2 랜덤 포레스트 살펴보기\n",
    "### 3.2.1 랜덤 포레스트 분류 모델"
   ]
  },
  {
   "cell_type": "code",
   "execution_count": 2,
   "id": "eeb559c6",
   "metadata": {},
   "outputs": [],
   "source": [
    "import pandas as pd\n",
    "import numpy as np\n",
    "from sklearn.ensemble import RandomForestClassifier\n",
    "from sklearn.model_selection import cross_val_score\n",
    "import warnings\n",
    "warnings.filterwarnings('ignore')"
   ]
  },
  {
   "cell_type": "code",
   "execution_count": 7,
   "id": "d453b2c2",
   "metadata": {},
   "outputs": [],
   "source": [
    "data_path = 'handson-gb-main/Chapter02/census_cleaned.csv'"
   ]
  },
  {
   "cell_type": "code",
   "execution_count": 9,
   "id": "491019c0",
   "metadata": {},
   "outputs": [],
   "source": [
    "df_census = pd.read_csv(data_path)\n",
    "X_census = df_census.iloc[:, :-1]\n",
    "y_census = df_census.iloc[:, -1]"
   ]
  },
  {
   "cell_type": "code",
   "execution_count": 10,
   "id": "ab3fe477",
   "metadata": {},
   "outputs": [],
   "source": [
    "rf = RandomForestClassifier(n_estimators=10, random_state=2, n_jobs=-1)"
   ]
  },
  {
   "cell_type": "code",
   "execution_count": 11,
   "id": "c68735c7",
   "metadata": {},
   "outputs": [
    {
     "name": "stdout",
     "output_type": "stream",
     "text": [
      "정확도:  [0.851 0.844 0.851 0.852 0.851]\n",
      "정확도 평균: 0.850\n"
     ]
    }
   ],
   "source": [
    "scores = cross_val_score(rf, X_census, y_census, cv=5)\n",
    "print('정확도: ', np.round(scores, 3))\n",
    "print(f'정확도 평균: {scores.mean():.3f}')"
   ]
  },
  {
   "cell_type": "markdown",
   "id": "170a6ad8",
   "metadata": {},
   "source": [
    "### 3.2.2 랜덤 포레스트 회귀 모델\n",
    "분류 모델과 마찬가지로 부트스트랩 샘플을 사용하지만 노드 분할에 특성의 제곱근이 아니라 특성 전체를 사용한다.  \n",
    "최종 예측은 다수결 투표가 아니라 모든 트리의 예측을 평균하여 만든다.  "
   ]
  },
  {
   "cell_type": "code",
   "execution_count": 12,
   "id": "37498901",
   "metadata": {},
   "outputs": [
    {
     "data": {
      "text/html": [
       "<div>\n",
       "<style scoped>\n",
       "    .dataframe tbody tr th:only-of-type {\n",
       "        vertical-align: middle;\n",
       "    }\n",
       "\n",
       "    .dataframe tbody tr th {\n",
       "        vertical-align: top;\n",
       "    }\n",
       "\n",
       "    .dataframe thead th {\n",
       "        text-align: right;\n",
       "    }\n",
       "</style>\n",
       "<table border=\"1\" class=\"dataframe\">\n",
       "  <thead>\n",
       "    <tr style=\"text-align: right;\">\n",
       "      <th></th>\n",
       "      <th>instant</th>\n",
       "      <th>season</th>\n",
       "      <th>yr</th>\n",
       "      <th>mnth</th>\n",
       "      <th>holiday</th>\n",
       "      <th>weekday</th>\n",
       "      <th>workingday</th>\n",
       "      <th>weathersit</th>\n",
       "      <th>temp</th>\n",
       "      <th>atemp</th>\n",
       "      <th>hum</th>\n",
       "      <th>windspeed</th>\n",
       "      <th>cnt</th>\n",
       "    </tr>\n",
       "  </thead>\n",
       "  <tbody>\n",
       "    <tr>\n",
       "      <th>0</th>\n",
       "      <td>1</td>\n",
       "      <td>1.0</td>\n",
       "      <td>0.0</td>\n",
       "      <td>1.0</td>\n",
       "      <td>0.0</td>\n",
       "      <td>6.0</td>\n",
       "      <td>0.0</td>\n",
       "      <td>2</td>\n",
       "      <td>0.344167</td>\n",
       "      <td>0.363625</td>\n",
       "      <td>0.805833</td>\n",
       "      <td>0.160446</td>\n",
       "      <td>985</td>\n",
       "    </tr>\n",
       "    <tr>\n",
       "      <th>1</th>\n",
       "      <td>2</td>\n",
       "      <td>1.0</td>\n",
       "      <td>0.0</td>\n",
       "      <td>1.0</td>\n",
       "      <td>0.0</td>\n",
       "      <td>0.0</td>\n",
       "      <td>0.0</td>\n",
       "      <td>2</td>\n",
       "      <td>0.363478</td>\n",
       "      <td>0.353739</td>\n",
       "      <td>0.696087</td>\n",
       "      <td>0.248539</td>\n",
       "      <td>801</td>\n",
       "    </tr>\n",
       "    <tr>\n",
       "      <th>2</th>\n",
       "      <td>3</td>\n",
       "      <td>1.0</td>\n",
       "      <td>0.0</td>\n",
       "      <td>1.0</td>\n",
       "      <td>0.0</td>\n",
       "      <td>1.0</td>\n",
       "      <td>1.0</td>\n",
       "      <td>1</td>\n",
       "      <td>0.196364</td>\n",
       "      <td>0.189405</td>\n",
       "      <td>0.437273</td>\n",
       "      <td>0.248309</td>\n",
       "      <td>1349</td>\n",
       "    </tr>\n",
       "    <tr>\n",
       "      <th>3</th>\n",
       "      <td>4</td>\n",
       "      <td>1.0</td>\n",
       "      <td>0.0</td>\n",
       "      <td>1.0</td>\n",
       "      <td>0.0</td>\n",
       "      <td>2.0</td>\n",
       "      <td>1.0</td>\n",
       "      <td>1</td>\n",
       "      <td>0.200000</td>\n",
       "      <td>0.212122</td>\n",
       "      <td>0.590435</td>\n",
       "      <td>0.160296</td>\n",
       "      <td>1562</td>\n",
       "    </tr>\n",
       "    <tr>\n",
       "      <th>4</th>\n",
       "      <td>5</td>\n",
       "      <td>1.0</td>\n",
       "      <td>0.0</td>\n",
       "      <td>1.0</td>\n",
       "      <td>0.0</td>\n",
       "      <td>3.0</td>\n",
       "      <td>1.0</td>\n",
       "      <td>1</td>\n",
       "      <td>0.226957</td>\n",
       "      <td>0.229270</td>\n",
       "      <td>0.436957</td>\n",
       "      <td>0.186900</td>\n",
       "      <td>1600</td>\n",
       "    </tr>\n",
       "  </tbody>\n",
       "</table>\n",
       "</div>"
      ],
      "text/plain": [
       "   instant  season   yr  mnth  holiday  weekday  workingday  weathersit  \\\n",
       "0        1     1.0  0.0   1.0      0.0      6.0         0.0           2   \n",
       "1        2     1.0  0.0   1.0      0.0      0.0         0.0           2   \n",
       "2        3     1.0  0.0   1.0      0.0      1.0         1.0           1   \n",
       "3        4     1.0  0.0   1.0      0.0      2.0         1.0           1   \n",
       "4        5     1.0  0.0   1.0      0.0      3.0         1.0           1   \n",
       "\n",
       "       temp     atemp       hum  windspeed   cnt  \n",
       "0  0.344167  0.363625  0.805833   0.160446   985  \n",
       "1  0.363478  0.353739  0.696087   0.248539   801  \n",
       "2  0.196364  0.189405  0.437273   0.248309  1349  \n",
       "3  0.200000  0.212122  0.590435   0.160296  1562  \n",
       "4  0.226957  0.229270  0.436957   0.186900  1600  "
      ]
     },
     "execution_count": 12,
     "metadata": {},
     "output_type": "execute_result"
    }
   ],
   "source": [
    "data_path = 'handson-gb-main/Chapter02/bike_rentals_cleaned.csv'\n",
    "df_bikes = pd.read_csv(data_path)\n",
    "df_bikes.head()"
   ]
  },
  {
   "cell_type": "code",
   "execution_count": 13,
   "id": "cd86523e",
   "metadata": {},
   "outputs": [],
   "source": [
    "X_bikes = df_bikes.iloc[:, :-1]\n",
    "y_bikes = df_bikes.iloc[:, -1]"
   ]
  },
  {
   "cell_type": "code",
   "execution_count": 14,
   "id": "3b2acde3",
   "metadata": {},
   "outputs": [
    {
     "name": "stdout",
     "output_type": "stream",
     "text": [
      "RMSE:  [ 801.486  579.987  551.347  846.698  895.05  1097.522  893.738  809.284\n",
      "  833.488 2145.046]\n",
      "RMSE 평균: 945.365\n"
     ]
    }
   ],
   "source": [
    "from sklearn.ensemble import RandomForestRegressor\n",
    "rf = RandomForestRegressor(n_estimators=10, random_state=2, n_jobs=-1)\n",
    "scores = cross_val_score(rf, X_bikes, y_bikes, scoring='neg_mean_squared_error', cv=10)\n",
    "rmse = np.sqrt(-scores)\n",
    "print('RMSE: ', np.round(rmse, 3))\n",
    "print(f'RMSE 평균: {rmse.mean():.3f}')"
   ]
  },
  {
   "cell_type": "markdown",
   "id": "58e54ae8",
   "metadata": {},
   "source": [
    "## 3.3 랜덤 포레스트 매개변수\n",
    "### 3.3.1 oob_score\n",
    "oob_score=True로 설정하면 랜덤 포레스트 모델을 훈련한 후 각 트리에서 사용되지 않은 샘플을 사용해 개별 트리의 예측 점수를 누적하여 평균을 낸다.  \n",
    "oob_score 매개변수는 테스트 점수의 대안을 제공할 수 있다. "
   ]
  },
  {
   "cell_type": "code",
   "execution_count": 15,
   "id": "8018ec7a",
   "metadata": {},
   "outputs": [],
   "source": [
    "rf = RandomForestClassifier(oob_score=True, n_estimators=10, random_state=2, n_jobs=-1)"
   ]
  },
  {
   "cell_type": "code",
   "execution_count": 16,
   "id": "eff1fbb9",
   "metadata": {},
   "outputs": [
    {
     "data": {
      "text/plain": [
       "RandomForestClassifier(n_estimators=10, n_jobs=-1, oob_score=True,\n",
       "                       random_state=2)"
      ]
     },
     "execution_count": 16,
     "metadata": {},
     "output_type": "execute_result"
    }
   ],
   "source": [
    "rf.fit(X_census, y_census)"
   ]
  },
  {
   "cell_type": "code",
   "execution_count": 17,
   "id": "ec5fb70d",
   "metadata": {},
   "outputs": [
    {
     "data": {
      "text/plain": [
       "0.8343109855348423"
      ]
     },
     "execution_count": 17,
     "metadata": {},
     "output_type": "execute_result"
    }
   ],
   "source": [
    "rf.oob_score_"
   ]
  },
  {
   "cell_type": "markdown",
   "id": "1d5e88e2",
   "metadata": {},
   "source": [
    "### 3.3.2 n_estimators\n",
    "랜덤 포레스트는 많은 트리를 앙상블했을 때 강력한 성능을 발휘한다. "
   ]
  },
  {
   "cell_type": "code",
   "execution_count": 18,
   "id": "1fb0cc9b",
   "metadata": {},
   "outputs": [
    {
     "data": {
      "text/plain": [
       "0.8518780135745216"
      ]
     },
     "execution_count": 18,
     "metadata": {},
     "output_type": "execute_result"
    }
   ],
   "source": [
    "rf = RandomForestClassifier(oob_score=True, n_estimators=50, random_state=2, n_jobs=-1)\n",
    "rf.fit(X_census, y_census)\n",
    "rf.oob_score_"
   ]
  },
  {
   "cell_type": "code",
   "execution_count": 19,
   "id": "e60f33ce",
   "metadata": {},
   "outputs": [
    {
     "data": {
      "text/plain": [
       "0.8551334418476091"
      ]
     },
     "execution_count": 19,
     "metadata": {},
     "output_type": "execute_result"
    }
   ],
   "source": [
    "rf = RandomForestClassifier(oob_score=True, n_estimators=100, random_state=2, n_jobs=-1)\n",
    "rf.fit(X_census, y_census)\n",
    "rf.oob_score_"
   ]
  },
  {
   "cell_type": "markdown",
   "id": "64a4eb19",
   "metadata": {},
   "source": [
    "### 3.3.3 warm_start\n",
    "랜덤 포레스트의 트리 개수(n_estimators)를 결정하는 데 도움이 된다.  \n",
    "warm_start=True로 지정하면 처음부터 시작하지 않고 트리를 앙상블에 추가할 수 있다.  \n",
    "n_estimators를 100에서 200으로 바꾸면 200개의 트리를 가진 랜덤 포레스트를 만드는데 오래 걸리는데, 해당 매개변수 지정 시 이전 모델에 이어서 트리를 추가한다.  "
   ]
  },
  {
   "cell_type": "code",
   "execution_count": 20,
   "id": "063b2e54",
   "metadata": {},
   "outputs": [],
   "source": [
    "import matplotlib.pyplot as plt\n",
    "import seaborn as sns\n",
    "sns.set()"
   ]
  },
  {
   "cell_type": "code",
   "execution_count": 21,
   "id": "acac23b6",
   "metadata": {},
   "outputs": [],
   "source": [
    "oob_scores=[]\n",
    "rf = RandomForestClassifier(oob_score=True, n_estimators=50, random_state=2, n_jobs=-1, warm_start=True)"
   ]
  },
  {
   "cell_type": "code",
   "execution_count": 22,
   "id": "5be52ef1",
   "metadata": {},
   "outputs": [],
   "source": [
    "rf.fit(X_census, y_census)\n",
    "oob_scores.append(rf.oob_score_)"
   ]
  },
  {
   "cell_type": "code",
   "execution_count": 23,
   "id": "8a299511",
   "metadata": {},
   "outputs": [],
   "source": [
    "est = 50\n",
    "estimators=[est]\n",
    "for i in range(9):\n",
    "    est += 50\n",
    "    estimators.append(est)\n",
    "    rf.set_params(n_estimators=est)\n",
    "    rf.fit(X_census, y_census)\n",
    "    oob_scores.append(rf.oob_score_)"
   ]
  },
  {
   "cell_type": "code",
   "execution_count": 25,
   "id": "5fe7092d",
   "metadata": {},
   "outputs": [
    {
     "data": {
      "image/png": "[encoded data removed]",
      "text/plain": [
       "<Figure size 1500x700 with 1 Axes>"
      ]
     },
     "metadata": {},
     "output_type": "display_data"
    }
   ],
   "source": [
    "plt.figure(figsize=(15, 7))\n",
    "plt.plot(estimators, oob_scores)\n",
    "plt.xlabel('Number of Trees')\n",
    "plt.ylabel('oob_score_')\n",
    "plt.title('Random Forest Warm Start', fontsize=15)\n",
    "plt.show()"
   ]
  },
  {
   "cell_type": "markdown",
   "id": "7957e896",
   "metadata": {},
   "source": [
    "## 3.4 랜덤 포레스트 성능 높이기 - 사례 연구"
   ]
  },
  {
   "cell_type": "code",
   "execution_count": 26,
   "id": "a04c86b0",
   "metadata": {},
   "outputs": [],
   "source": [
    "from sklearn.model_selection import train_test_split\n",
    "X_train, X_test, y_train, y_test = train_test_split(X_bikes, y_bikes, random_state=2)"
   ]
  },
  {
   "cell_type": "code",
   "execution_count": 27,
   "id": "ca071fe6",
   "metadata": {},
   "outputs": [
    {
     "name": "stdout",
     "output_type": "stream",
     "text": [
      "RMSE:  [ 836.482  541.898  533.086  812.782  894.877  881.117  794.103  828.968\n",
      "  772.517 2128.148]\n",
      "RMSE 평균: 902.398\n"
     ]
    }
   ],
   "source": [
    "rf = RandomForestRegressor(n_estimators=50, warm_start=True, \n",
    "                          n_jobs=-1, random_state=2)\n",
    "scores = cross_val_score(rf, X_bikes, y_bikes, scoring='neg_mean_squared_error', cv=10) \n",
    "rmse = np.sqrt(-scores)\n",
    "print('RMSE: ', np.round(rmse, 3))\n",
    "print(f'RMSE 평균: {rmse.mean():.3f}')"
   ]
  },
  {
   "cell_type": "code",
   "execution_count": null,
   "id": "efb37fbf",
   "metadata": {},
   "outputs": [],
   "source": []
  }
 ],
 "metadata": {
  "kernelspec": {
   "display_name": "Python 3 (ipykernel)",
   "language": "python",
   "name": "python3"
  },
  "language_info": {
   "codemirror_mode": {
    "name": "ipython",
    "version": 3
   },
   "file_extension": ".py",
   "mimetype": "text/x-python",
   "name": "python",
   "nbconvert_exporter": "python",
   "pygments_lexer": "ipython3",
   "version": "3.9.13"
  }
 },
 "nbformat": 4,
 "nbformat_minor": 5
}
