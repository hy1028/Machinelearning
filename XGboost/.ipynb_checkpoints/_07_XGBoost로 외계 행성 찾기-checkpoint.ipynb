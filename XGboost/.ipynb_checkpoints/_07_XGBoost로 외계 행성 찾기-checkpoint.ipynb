{
 "cells": [
  {
   "cell_type": "markdown",
   "id": "f74d2ea5",
   "metadata": {},
   "source": [
    "불균형 데이터셋 다루기  \n",
    "오차행렬(confusion matrix), 분류 리포트(classification report), 정밀도와 재현율, 데이터 리샘플링(resampling)의 이해와 적용  \n",
    "scale_pos_weight 적용"
   ]
  },
  {
   "cell_type": "code",
   "execution_count": 1,
   "id": "13549764",
   "metadata": {},
   "outputs": [
    {
     "data": {
      "text/html": [
       "<div>\n",
       "<style scoped>\n",
       "    .dataframe tbody tr th:only-of-type {\n",
       "        vertical-align: middle;\n",
       "    }\n",
       "\n",
       "    .dataframe tbody tr th {\n",
       "        vertical-align: top;\n",
       "    }\n",
       "\n",
       "    .dataframe thead th {\n",
       "        text-align: right;\n",
       "    }\n",
       "</style>\n",
       "<table border=\"1\" class=\"dataframe\">\n",
       "  <thead>\n",
       "    <tr style=\"text-align: right;\">\n",
       "      <th></th>\n",
       "      <th>LABEL</th>\n",
       "      <th>FLUX.1</th>\n",
       "      <th>FLUX.2</th>\n",
       "      <th>FLUX.3</th>\n",
       "      <th>FLUX.4</th>\n",
       "      <th>FLUX.5</th>\n",
       "      <th>FLUX.6</th>\n",
       "      <th>FLUX.7</th>\n",
       "      <th>FLUX.8</th>\n",
       "      <th>FLUX.9</th>\n",
       "      <th>...</th>\n",
       "      <th>FLUX.3188</th>\n",
       "      <th>FLUX.3189</th>\n",
       "      <th>FLUX.3190</th>\n",
       "      <th>FLUX.3191</th>\n",
       "      <th>FLUX.3192</th>\n",
       "      <th>FLUX.3193</th>\n",
       "      <th>FLUX.3194</th>\n",
       "      <th>FLUX.3195</th>\n",
       "      <th>FLUX.3196</th>\n",
       "      <th>FLUX.3197</th>\n",
       "    </tr>\n",
       "  </thead>\n",
       "  <tbody>\n",
       "    <tr>\n",
       "      <th>0</th>\n",
       "      <td>2</td>\n",
       "      <td>93.85</td>\n",
       "      <td>83.81</td>\n",
       "      <td>20.10</td>\n",
       "      <td>-26.98</td>\n",
       "      <td>-39.56</td>\n",
       "      <td>-124.71</td>\n",
       "      <td>-135.18</td>\n",
       "      <td>-96.27</td>\n",
       "      <td>-79.89</td>\n",
       "      <td>...</td>\n",
       "      <td>-78.07</td>\n",
       "      <td>-102.15</td>\n",
       "      <td>-102.15</td>\n",
       "      <td>25.13</td>\n",
       "      <td>48.57</td>\n",
       "      <td>92.54</td>\n",
       "      <td>39.32</td>\n",
       "      <td>61.42</td>\n",
       "      <td>5.08</td>\n",
       "      <td>-39.54</td>\n",
       "    </tr>\n",
       "    <tr>\n",
       "      <th>1</th>\n",
       "      <td>2</td>\n",
       "      <td>-38.88</td>\n",
       "      <td>-33.83</td>\n",
       "      <td>-58.54</td>\n",
       "      <td>-40.09</td>\n",
       "      <td>-79.31</td>\n",
       "      <td>-72.81</td>\n",
       "      <td>-86.55</td>\n",
       "      <td>-85.33</td>\n",
       "      <td>-83.97</td>\n",
       "      <td>...</td>\n",
       "      <td>-3.28</td>\n",
       "      <td>-32.21</td>\n",
       "      <td>-32.21</td>\n",
       "      <td>-24.89</td>\n",
       "      <td>-4.86</td>\n",
       "      <td>0.76</td>\n",
       "      <td>-11.70</td>\n",
       "      <td>6.46</td>\n",
       "      <td>16.00</td>\n",
       "      <td>19.93</td>\n",
       "    </tr>\n",
       "    <tr>\n",
       "      <th>2</th>\n",
       "      <td>2</td>\n",
       "      <td>532.64</td>\n",
       "      <td>535.92</td>\n",
       "      <td>513.73</td>\n",
       "      <td>496.92</td>\n",
       "      <td>456.45</td>\n",
       "      <td>466.00</td>\n",
       "      <td>464.50</td>\n",
       "      <td>486.39</td>\n",
       "      <td>436.56</td>\n",
       "      <td>...</td>\n",
       "      <td>-71.69</td>\n",
       "      <td>13.31</td>\n",
       "      <td>13.31</td>\n",
       "      <td>-29.89</td>\n",
       "      <td>-20.88</td>\n",
       "      <td>5.06</td>\n",
       "      <td>-11.80</td>\n",
       "      <td>-28.91</td>\n",
       "      <td>-70.02</td>\n",
       "      <td>-96.67</td>\n",
       "    </tr>\n",
       "    <tr>\n",
       "      <th>3</th>\n",
       "      <td>2</td>\n",
       "      <td>326.52</td>\n",
       "      <td>347.39</td>\n",
       "      <td>302.35</td>\n",
       "      <td>298.13</td>\n",
       "      <td>317.74</td>\n",
       "      <td>312.70</td>\n",
       "      <td>322.33</td>\n",
       "      <td>311.31</td>\n",
       "      <td>312.42</td>\n",
       "      <td>...</td>\n",
       "      <td>5.71</td>\n",
       "      <td>-3.73</td>\n",
       "      <td>-3.73</td>\n",
       "      <td>30.05</td>\n",
       "      <td>20.03</td>\n",
       "      <td>-12.67</td>\n",
       "      <td>-8.77</td>\n",
       "      <td>-17.31</td>\n",
       "      <td>-17.35</td>\n",
       "      <td>13.98</td>\n",
       "    </tr>\n",
       "    <tr>\n",
       "      <th>4</th>\n",
       "      <td>2</td>\n",
       "      <td>-1107.21</td>\n",
       "      <td>-1112.59</td>\n",
       "      <td>-1118.95</td>\n",
       "      <td>-1095.10</td>\n",
       "      <td>-1057.55</td>\n",
       "      <td>-1034.48</td>\n",
       "      <td>-998.34</td>\n",
       "      <td>-1022.71</td>\n",
       "      <td>-989.57</td>\n",
       "      <td>...</td>\n",
       "      <td>-594.37</td>\n",
       "      <td>-401.66</td>\n",
       "      <td>-401.66</td>\n",
       "      <td>-357.24</td>\n",
       "      <td>-443.76</td>\n",
       "      <td>-438.54</td>\n",
       "      <td>-399.71</td>\n",
       "      <td>-384.65</td>\n",
       "      <td>-411.79</td>\n",
       "      <td>-510.54</td>\n",
       "    </tr>\n",
       "  </tbody>\n",
       "</table>\n",
       "<p>5 rows × 3198 columns</p>\n",
       "</div>"
      ],
      "text/plain": [
       "   LABEL   FLUX.1   FLUX.2   FLUX.3   FLUX.4   FLUX.5   FLUX.6  FLUX.7  \\\n",
       "0      2    93.85    83.81    20.10   -26.98   -39.56  -124.71 -135.18   \n",
       "1      2   -38.88   -33.83   -58.54   -40.09   -79.31   -72.81  -86.55   \n",
       "2      2   532.64   535.92   513.73   496.92   456.45   466.00  464.50   \n",
       "3      2   326.52   347.39   302.35   298.13   317.74   312.70  322.33   \n",
       "4      2 -1107.21 -1112.59 -1118.95 -1095.10 -1057.55 -1034.48 -998.34   \n",
       "\n",
       "    FLUX.8  FLUX.9  ...  FLUX.3188  FLUX.3189  FLUX.3190  FLUX.3191  \\\n",
       "0   -96.27  -79.89  ...     -78.07    -102.15    -102.15      25.13   \n",
       "1   -85.33  -83.97  ...      -3.28     -32.21     -32.21     -24.89   \n",
       "2   486.39  436.56  ...     -71.69      13.31      13.31     -29.89   \n",
       "3   311.31  312.42  ...       5.71      -3.73      -3.73      30.05   \n",
       "4 -1022.71 -989.57  ...    -594.37    -401.66    -401.66    -357.24   \n",
       "\n",
       "   FLUX.3192  FLUX.3193  FLUX.3194  FLUX.3195  FLUX.3196  FLUX.3197  \n",
       "0      48.57      92.54      39.32      61.42       5.08     -39.54  \n",
       "1      -4.86       0.76     -11.70       6.46      16.00      19.93  \n",
       "2     -20.88       5.06     -11.80     -28.91     -70.02     -96.67  \n",
       "3      20.03     -12.67      -8.77     -17.31     -17.35      13.98  \n",
       "4    -443.76    -438.54    -399.71    -384.65    -411.79    -510.54  \n",
       "\n",
       "[5 rows x 3198 columns]"
      ]
     },
     "execution_count": 1,
     "metadata": {},
     "output_type": "execute_result"
    }
   ],
   "source": [
    "import pandas as pd\n",
    "data_path = '../../handson-gb-main/Chapter07/exoplanets.csv'\n",
    "df = pd.read_csv(data_path, nrows=400)\n",
    "df.head()"
   ]
  },
  {
   "cell_type": "code",
   "execution_count": 2,
   "id": "432673f2",
   "metadata": {},
   "outputs": [
    {
     "data": {
      "text/plain": [
       "1    363\n",
       "2     37\n",
       "Name: LABEL, dtype: int64"
      ]
     },
     "execution_count": 2,
     "metadata": {},
     "output_type": "execute_result"
    }
   ],
   "source": [
    "df['LABEL'].value_counts()"
   ]
  },
  {
   "cell_type": "code",
   "execution_count": 3,
   "id": "7725c5de",
   "metadata": {},
   "outputs": [],
   "source": [
    "df['LABEL'] = df['LABEL'].replace({1:0, 2:1})"
   ]
  },
  {
   "cell_type": "code",
   "execution_count": 4,
   "id": "8bdce67c",
   "metadata": {},
   "outputs": [
    {
     "data": {
      "text/plain": [
       "0    363\n",
       "1     37\n",
       "Name: LABEL, dtype: int64"
      ]
     },
     "execution_count": 4,
     "metadata": {},
     "output_type": "execute_result"
    }
   ],
   "source": [
    "df['LABEL'].value_counts()"
   ]
  },
  {
   "cell_type": "code",
   "execution_count": 5,
   "id": "d325db80",
   "metadata": {},
   "outputs": [],
   "source": [
    "import matplotlib.pyplot as plt\n",
    "import numpy as np\n",
    "import seaborn as sns\n",
    "sns.set()"
   ]
  },
  {
   "cell_type": "code",
   "execution_count": 6,
   "id": "f9f3d449",
   "metadata": {},
   "outputs": [],
   "source": [
    "# 데이터를 그래프로 그릴 특성 X와 타깃 y\n",
    "X = df.iloc[:, 1:]\n",
    "y = df.iloc[:, 0]\n",
    "\n",
    "def light_plot(index):\n",
    "    y_vals = X.iloc[index]\n",
    "    x_vals = np.arange(len(y_vals))\n",
    "    plt.figure(figsize=(15, 8))\n",
    "    plt.xlabel('Number of Observations')\n",
    "    plt.ylabel('Light Flux')\n",
    "    plt.title('Light Plot ' + str(index), size=15)\n",
    "    plt.plot(x_vals, y_vals)\n",
    "    plt.show()"
   ]
  },
  {
   "cell_type": "code",
   "execution_count": 7,
   "id": "29f6976d",
   "metadata": {},
   "outputs": [
    {
     "data": {
      "image/png": "[encoded data removed]",
      "text/plain": [
       "<Figure size 1500x800 with 1 Axes>"
      ]
     },
     "metadata": {},
     "output_type": "display_data"
    }
   ],
   "source": [
    "light_plot(0)"
   ]
  },
  {
   "cell_type": "code",
   "execution_count": 8,
   "id": "d51ebd05",
   "metadata": {},
   "outputs": [
    {
     "data": {
      "image/png": "[encoded data removed]",
      "text/plain": [
       "<Figure size 1500x800 with 1 Axes>"
      ]
     },
     "metadata": {},
     "output_type": "display_data"
    }
   ],
   "source": [
    "light_plot(37)"
   ]
  },
  {
   "cell_type": "code",
   "execution_count": 9,
   "id": "eebc6c42",
   "metadata": {},
   "outputs": [
    {
     "data": {
      "image/png": "[encoded data removed]",
      "text/plain": [
       "<Figure size 1500x800 with 1 Axes>"
      ]
     },
     "metadata": {},
     "output_type": "display_data"
    }
   ],
   "source": [
    "light_plot(1)"
   ]
  },
  {
   "cell_type": "markdown",
   "id": "b09eba98",
   "metadata": {},
   "source": [
    "### 7.1.4 데이터 준비"
   ]
  },
  {
   "cell_type": "code",
   "execution_count": 10,
   "id": "fdfc420c",
   "metadata": {},
   "outputs": [
    {
     "name": "stdout",
     "output_type": "stream",
     "text": [
      "<class 'pandas.core.frame.DataFrame'>\n",
      "RangeIndex: 400 entries, 0 to 399\n",
      "Columns: 3198 entries, LABEL to FLUX.3197\n",
      "dtypes: float64(3197), int64(1)\n",
      "memory usage: 9.8 MB\n"
     ]
    }
   ],
   "source": [
    "df.info()"
   ]
  },
  {
   "cell_type": "code",
   "execution_count": 11,
   "id": "f9aaa927",
   "metadata": {},
   "outputs": [
    {
     "data": {
      "text/plain": [
       "0"
      ]
     },
     "execution_count": 11,
     "metadata": {},
     "output_type": "execute_result"
    }
   ],
   "source": [
    "df.isnull().sum().sum()"
   ]
  },
  {
   "cell_type": "markdown",
   "id": "ad0eb364",
   "metadata": {},
   "source": [
    "열은 3197개의 실수와 1개의 정수값을 가진 데이터  \n",
    "누락값이 없으므로 바로 사용"
   ]
  },
  {
   "cell_type": "markdown",
   "id": "043f05df",
   "metadata": {},
   "source": [
    "### 7.1.5 초기 XGBClassifier"
   ]
  },
  {
   "cell_type": "code",
   "execution_count": 12,
   "id": "6d92374f",
   "metadata": {},
   "outputs": [],
   "source": [
    "from xgboost import XGBClassifier\n",
    "from sklearn.metrics import accuracy_score"
   ]
  },
  {
   "cell_type": "code",
   "execution_count": 13,
   "id": "42173f78",
   "metadata": {},
   "outputs": [],
   "source": [
    "from sklearn.model_selection import train_test_split \n",
    "X_train, X_test, y_train, y_test = train_test_split(X, y, random_state=2)"
   ]
  },
  {
   "cell_type": "code",
   "execution_count": 15,
   "id": "b1e594e7",
   "metadata": {},
   "outputs": [
    {
     "name": "stdout",
     "output_type": "stream",
     "text": [
      "점수: 0.89\n"
     ]
    }
   ],
   "source": [
    "model = XGBClassifier(booster='gbtree')\n",
    "model.fit(X_train, y_train)\n",
    "y_pred = model.predict(X_test)\n",
    "score = accuracy_score(y_pred, y_test)\n",
    "print('점수: ' + str(score))"
   ]
  },
  {
   "cell_type": "markdown",
   "id": "d326e81f",
   "metadata": {},
   "source": [
    "## 7.2 오차 행렬 분석하기\n",
    "분류 모델에서 올바른 예측과 잘못된 예측을 요약해 놓은 테이블  \n",
    "불균형한 데이터셋을 분석하는 데 이상적이다. "
   ]
  },
  {
   "cell_type": "code",
   "execution_count": 16,
   "id": "930b508c",
   "metadata": {},
   "outputs": [
    {
     "data": {
      "text/plain": [
       "array([[86,  2],\n",
       "       [ 9,  3]], dtype=int64)"
      ]
     },
     "execution_count": 16,
     "metadata": {},
     "output_type": "execute_result"
    }
   ],
   "source": [
    "from sklearn.metrics import confusion_matrix\n",
    "confusion_matrix(y_test, y_pred)"
   ]
  },
  {
   "cell_type": "markdown",
   "id": "2da86ebb",
   "metadata": {},
   "source": [
    "### 7.2.2 classification_report\n",
    "분류 리포트는 오차 행렬에 담긴 숫자를 바탕으로 다양한 비율을 제공한다. "
   ]
  },
  {
   "cell_type": "code",
   "execution_count": 17,
   "id": "26a5e012",
   "metadata": {},
   "outputs": [
    {
     "name": "stdout",
     "output_type": "stream",
     "text": [
      "              precision    recall  f1-score   support\n",
      "\n",
      "           0       0.91      0.98      0.94        88\n",
      "           1       0.60      0.25      0.35        12\n",
      "\n",
      "    accuracy                           0.89       100\n",
      "   macro avg       0.75      0.61      0.65       100\n",
      "weighted avg       0.87      0.89      0.87       100\n",
      "\n"
     ]
    }
   ],
   "source": [
    "from sklearn.metrics import classification_report\n",
    "print(classification_report(y_test, y_pred))"
   ]
  },
  {
   "cell_type": "markdown",
   "id": "1dede78a",
   "metadata": {},
   "source": [
    "##### 정밀도(precision)\n",
    "양성 클래스를 올바르게 예측한 비율(TP / TP + FP)  \n",
    "올바르게 예측한 비율을 알려준다. (코로나 환자라고 예측한 환자중에 진짜 환자가 얼마나 있는가?)\n",
    "##### 재현율(recall)\n",
    "예측하지 못한 양성 클래스의 비율(TP / TP + FN)  \n",
    "얼마나 많은 양성 샘플을 찾았는지 말해준다. (코로나 환자 중 얼마나 많은 코로나 환자를 찾았는가?)\n",
    "##### F1 score \n",
    "정밀도와 재현율의 조화 평균  \n",
    "둘의 분모가 다르기 때문에 이를 동일하게 만들기 위해 조화 평균을 사용한다.  \n",
    "정밀도와 재현율이 모두 중요할 때 F1 score를 사용한다.  \n",
    "0~1 사이의 값이며 1이 가장 좋은 값이다. "
   ]
  },
  {
   "cell_type": "markdown",
   "id": "f6580815",
   "metadata": {},
   "source": [
    "외계 행성 중 가능한 많은 행성을 찾기 위해 재현율을 평가 방법으로 채택한다. "
   ]
  },
  {
   "cell_type": "code",
   "execution_count": 20,
   "id": "100d72ba",
   "metadata": {},
   "outputs": [
    {
     "data": {
      "text/plain": [
       "0.25"
      ]
     },
     "execution_count": 20,
     "metadata": {},
     "output_type": "execute_result"
    }
   ],
   "source": [
    "from sklearn.metrics import recall_score \n",
    "recall_score(y_test, y_pred, pos_label=1) # 양성 클래스에 대한 recall 값을 알고싶으니 pos_label을 양성 클래스로 지정한다. "
   ]
  },
  {
   "cell_type": "markdown",
   "id": "26c73309",
   "metadata": {},
   "source": [
    "## 7.3 불균형 데이터 리샘플링\n",
    "데이터 불균형 문제를 고치기 위한 리샘플링, 언더샘플링, 오버샘플링 전략을 알아본다.  \n",
    "다수 클래스의 샘플을 줄이기 위한 언더샘플링  \n",
    "소수 클래스 샘플을 늘리기 위해 데이터를 오버 샘플링 할 수 있다. \n",
    "### 7.3.2 언더샘플링"
   ]
  },
  {
   "cell_type": "code",
   "execution_count": 23,
   "id": "20c90d26",
   "metadata": {},
   "outputs": [],
   "source": [
    "def xgb_clf(model, nrows):\n",
    "    df = pd.read_csv(data_path, nrows=nrows)\n",
    "    df['LABEL'] = df['LABEL'].replace({1:0, 2:1})\n",
    "    X = df.iloc[:, 1:]\n",
    "    y = df.iloc[:, 0]\n",
    "    X_train, X_test, y_train, y_test = train_test_split(X, y, random_state=2)\n",
    "    \n",
    "    model.fit(X_train, y_train)\n",
    "    y_pred = model.predict(X_test)\n",
    "    score = recall_score(y_test, y_pred, pos_label=1)\n",
    "    \n",
    "    print(confusion_matrix(y_test, y_pred))\n",
    "    print(classification_report(y_test, y_pred))\n",
    "    return score"
   ]
  },
  {
   "cell_type": "code",
   "execution_count": 24,
   "id": "413398a6",
   "metadata": {},
   "outputs": [
    {
     "name": "stdout",
     "output_type": "stream",
     "text": [
      "[[189   1]\n",
      " [  9   1]]\n",
      "              precision    recall  f1-score   support\n",
      "\n",
      "           0       0.95      0.99      0.97       190\n",
      "           1       0.50      0.10      0.17        10\n",
      "\n",
      "    accuracy                           0.95       200\n",
      "   macro avg       0.73      0.55      0.57       200\n",
      "weighted avg       0.93      0.95      0.93       200\n",
      "\n"
     ]
    },
    {
     "data": {
      "text/plain": [
       "0.1"
      ]
     },
     "execution_count": 24,
     "metadata": {},
     "output_type": "execute_result"
    }
   ],
   "source": [
    "xgb_clf(XGBClassifier(), nrows=800)"
   ]
  },
  {
   "cell_type": "code",
   "execution_count": 26,
   "id": "f612bff7",
   "metadata": {},
   "outputs": [
    {
     "name": "stdout",
     "output_type": "stream",
     "text": [
      "[[37  0]\n",
      " [ 8  5]]\n",
      "              precision    recall  f1-score   support\n",
      "\n",
      "           0       0.82      1.00      0.90        37\n",
      "           1       1.00      0.38      0.56        13\n",
      "\n",
      "    accuracy                           0.84        50\n",
      "   macro avg       0.91      0.69      0.73        50\n",
      "weighted avg       0.87      0.84      0.81        50\n",
      "\n"
     ]
    },
    {
     "data": {
      "text/plain": [
       "0.38461538461538464"
      ]
     },
     "execution_count": 26,
     "metadata": {},
     "output_type": "execute_result"
    }
   ],
   "source": [
    "xgb_clf(XGBClassifier(), nrows=200)"
   ]
  },
  {
   "cell_type": "code",
   "execution_count": 27,
   "id": "77999e30",
   "metadata": {},
   "outputs": [
    {
     "name": "stdout",
     "output_type": "stream",
     "text": [
      "[[6 2]\n",
      " [5 6]]\n",
      "              precision    recall  f1-score   support\n",
      "\n",
      "           0       0.55      0.75      0.63         8\n",
      "           1       0.75      0.55      0.63        11\n",
      "\n",
      "    accuracy                           0.63        19\n",
      "   macro avg       0.65      0.65      0.63        19\n",
      "weighted avg       0.66      0.63      0.63        19\n",
      "\n"
     ]
    },
    {
     "data": {
      "text/plain": [
       "0.5454545454545454"
      ]
     },
     "execution_count": 27,
     "metadata": {},
     "output_type": "execute_result"
    }
   ],
   "source": [
    "xgb_clf(XGBClassifier(), nrows=74)"
   ]
  },
  {
   "cell_type": "markdown",
   "id": "54db2f8a",
   "metadata": {},
   "source": [
    "### 7.3.3 오버샘플링\n",
    "샘플 개수를 줄이는 것이 아니라 부족한 클래스의 샘플을 복사하고 추가하여 샘플 수를 늘린다. "
   ]
  },
  {
   "cell_type": "code",
   "execution_count": 29,
   "id": "4d564854",
   "metadata": {},
   "outputs": [],
   "source": [
    "df_train = pd.merge(y_train, X_train, left_index=True, right_index=True)"
   ]
  },
  {
   "cell_type": "code",
   "execution_count": 36,
   "id": "792b3832",
   "metadata": {},
   "outputs": [
    {
     "data": {
      "text/plain": [
       "array([[ 1.0000e+00,  3.1290e+01,  2.5140e+01, ..., -1.7580e+01,\n",
       "         1.3790e+01,  7.2000e-01],\n",
       "       [ 1.0000e+00,  2.2820e+01,  4.6370e+01, ..., -5.5860e+01,\n",
       "        -4.4550e+01, -1.6800e+01],\n",
       "       [ 1.0000e+00,  1.1881e+02,  1.1097e+02, ...,  4.3295e+02,\n",
       "         7.2181e+02,  9.3808e+02],\n",
       "       ...,\n",
       "       [ 1.0000e+00,  4.3070e+01,  4.6730e+01, ...,  1.8180e+01,\n",
       "         5.1210e+01,  9.7100e+00],\n",
       "       [ 1.0000e+00, -4.8480e+01, -2.2950e+01, ...,  2.1430e+01,\n",
       "         1.4530e+02,  1.9720e+02],\n",
       "       [ 1.0000e+00,  3.5920e+01,  4.5840e+01, ...,  3.7320e+01,\n",
       "         3.6010e+01,  7.1590e+01]])"
      ]
     },
     "execution_count": 36,
     "metadata": {},
     "output_type": "execute_result"
    }
   ],
   "source": [
    "df_train[df_train['LABEL']==1].values"
   ]
  },
  {
   "cell_type": "code",
   "execution_count": 38,
   "id": "467a7ae0",
   "metadata": {},
   "outputs": [
    {
     "data": {
      "text/html": [
       "<div>\n",
       "<style scoped>\n",
       "    .dataframe tbody tr th:only-of-type {\n",
       "        vertical-align: middle;\n",
       "    }\n",
       "\n",
       "    .dataframe tbody tr th {\n",
       "        vertical-align: top;\n",
       "    }\n",
       "\n",
       "    .dataframe thead th {\n",
       "        text-align: right;\n",
       "    }\n",
       "</style>\n",
       "<table border=\"1\" class=\"dataframe\">\n",
       "  <thead>\n",
       "    <tr style=\"text-align: right;\">\n",
       "      <th></th>\n",
       "      <th>0</th>\n",
       "      <th>1</th>\n",
       "      <th>2</th>\n",
       "      <th>3</th>\n",
       "      <th>4</th>\n",
       "      <th>5</th>\n",
       "      <th>6</th>\n",
       "      <th>7</th>\n",
       "      <th>8</th>\n",
       "      <th>9</th>\n",
       "      <th>...</th>\n",
       "      <th>3188</th>\n",
       "      <th>3189</th>\n",
       "      <th>3190</th>\n",
       "      <th>3191</th>\n",
       "      <th>3192</th>\n",
       "      <th>3193</th>\n",
       "      <th>3194</th>\n",
       "      <th>3195</th>\n",
       "      <th>3196</th>\n",
       "      <th>3197</th>\n",
       "    </tr>\n",
       "  </thead>\n",
       "  <tbody>\n",
       "    <tr>\n",
       "      <th>0</th>\n",
       "      <td>1.0</td>\n",
       "      <td>31.29</td>\n",
       "      <td>25.14</td>\n",
       "      <td>36.93</td>\n",
       "      <td>16.63</td>\n",
       "      <td>17.01</td>\n",
       "      <td>-7.50</td>\n",
       "      <td>0.09</td>\n",
       "      <td>1.24</td>\n",
       "      <td>-19.82</td>\n",
       "      <td>...</td>\n",
       "      <td>11.36</td>\n",
       "      <td>12.96</td>\n",
       "      <td>28.50</td>\n",
       "      <td>51.05</td>\n",
       "      <td>25.85</td>\n",
       "      <td>4.79</td>\n",
       "      <td>13.26</td>\n",
       "      <td>-17.58</td>\n",
       "      <td>13.79</td>\n",
       "      <td>0.72</td>\n",
       "    </tr>\n",
       "    <tr>\n",
       "      <th>1</th>\n",
       "      <td>1.0</td>\n",
       "      <td>31.29</td>\n",
       "      <td>25.14</td>\n",
       "      <td>36.93</td>\n",
       "      <td>16.63</td>\n",
       "      <td>17.01</td>\n",
       "      <td>-7.50</td>\n",
       "      <td>0.09</td>\n",
       "      <td>1.24</td>\n",
       "      <td>-19.82</td>\n",
       "      <td>...</td>\n",
       "      <td>11.36</td>\n",
       "      <td>12.96</td>\n",
       "      <td>28.50</td>\n",
       "      <td>51.05</td>\n",
       "      <td>25.85</td>\n",
       "      <td>4.79</td>\n",
       "      <td>13.26</td>\n",
       "      <td>-17.58</td>\n",
       "      <td>13.79</td>\n",
       "      <td>0.72</td>\n",
       "    </tr>\n",
       "    <tr>\n",
       "      <th>2</th>\n",
       "      <td>1.0</td>\n",
       "      <td>31.29</td>\n",
       "      <td>25.14</td>\n",
       "      <td>36.93</td>\n",
       "      <td>16.63</td>\n",
       "      <td>17.01</td>\n",
       "      <td>-7.50</td>\n",
       "      <td>0.09</td>\n",
       "      <td>1.24</td>\n",
       "      <td>-19.82</td>\n",
       "      <td>...</td>\n",
       "      <td>11.36</td>\n",
       "      <td>12.96</td>\n",
       "      <td>28.50</td>\n",
       "      <td>51.05</td>\n",
       "      <td>25.85</td>\n",
       "      <td>4.79</td>\n",
       "      <td>13.26</td>\n",
       "      <td>-17.58</td>\n",
       "      <td>13.79</td>\n",
       "      <td>0.72</td>\n",
       "    </tr>\n",
       "    <tr>\n",
       "      <th>3</th>\n",
       "      <td>1.0</td>\n",
       "      <td>31.29</td>\n",
       "      <td>25.14</td>\n",
       "      <td>36.93</td>\n",
       "      <td>16.63</td>\n",
       "      <td>17.01</td>\n",
       "      <td>-7.50</td>\n",
       "      <td>0.09</td>\n",
       "      <td>1.24</td>\n",
       "      <td>-19.82</td>\n",
       "      <td>...</td>\n",
       "      <td>11.36</td>\n",
       "      <td>12.96</td>\n",
       "      <td>28.50</td>\n",
       "      <td>51.05</td>\n",
       "      <td>25.85</td>\n",
       "      <td>4.79</td>\n",
       "      <td>13.26</td>\n",
       "      <td>-17.58</td>\n",
       "      <td>13.79</td>\n",
       "      <td>0.72</td>\n",
       "    </tr>\n",
       "    <tr>\n",
       "      <th>4</th>\n",
       "      <td>1.0</td>\n",
       "      <td>31.29</td>\n",
       "      <td>25.14</td>\n",
       "      <td>36.93</td>\n",
       "      <td>16.63</td>\n",
       "      <td>17.01</td>\n",
       "      <td>-7.50</td>\n",
       "      <td>0.09</td>\n",
       "      <td>1.24</td>\n",
       "      <td>-19.82</td>\n",
       "      <td>...</td>\n",
       "      <td>11.36</td>\n",
       "      <td>12.96</td>\n",
       "      <td>28.50</td>\n",
       "      <td>51.05</td>\n",
       "      <td>25.85</td>\n",
       "      <td>4.79</td>\n",
       "      <td>13.26</td>\n",
       "      <td>-17.58</td>\n",
       "      <td>13.79</td>\n",
       "      <td>0.72</td>\n",
       "    </tr>\n",
       "    <tr>\n",
       "      <th>...</th>\n",
       "      <td>...</td>\n",
       "      <td>...</td>\n",
       "      <td>...</td>\n",
       "      <td>...</td>\n",
       "      <td>...</td>\n",
       "      <td>...</td>\n",
       "      <td>...</td>\n",
       "      <td>...</td>\n",
       "      <td>...</td>\n",
       "      <td>...</td>\n",
       "      <td>...</td>\n",
       "      <td>...</td>\n",
       "      <td>...</td>\n",
       "      <td>...</td>\n",
       "      <td>...</td>\n",
       "      <td>...</td>\n",
       "      <td>...</td>\n",
       "      <td>...</td>\n",
       "      <td>...</td>\n",
       "      <td>...</td>\n",
       "      <td>...</td>\n",
       "    </tr>\n",
       "    <tr>\n",
       "      <th>220</th>\n",
       "      <td>1.0</td>\n",
       "      <td>35.92</td>\n",
       "      <td>45.84</td>\n",
       "      <td>47.99</td>\n",
       "      <td>74.58</td>\n",
       "      <td>87.97</td>\n",
       "      <td>87.97</td>\n",
       "      <td>105.23</td>\n",
       "      <td>131.70</td>\n",
       "      <td>130.00</td>\n",
       "      <td>...</td>\n",
       "      <td>39.71</td>\n",
       "      <td>-2.53</td>\n",
       "      <td>-2.53</td>\n",
       "      <td>15.32</td>\n",
       "      <td>18.65</td>\n",
       "      <td>20.43</td>\n",
       "      <td>22.40</td>\n",
       "      <td>37.32</td>\n",
       "      <td>36.01</td>\n",
       "      <td>71.59</td>\n",
       "    </tr>\n",
       "    <tr>\n",
       "      <th>221</th>\n",
       "      <td>1.0</td>\n",
       "      <td>35.92</td>\n",
       "      <td>45.84</td>\n",
       "      <td>47.99</td>\n",
       "      <td>74.58</td>\n",
       "      <td>87.97</td>\n",
       "      <td>87.97</td>\n",
       "      <td>105.23</td>\n",
       "      <td>131.70</td>\n",
       "      <td>130.00</td>\n",
       "      <td>...</td>\n",
       "      <td>39.71</td>\n",
       "      <td>-2.53</td>\n",
       "      <td>-2.53</td>\n",
       "      <td>15.32</td>\n",
       "      <td>18.65</td>\n",
       "      <td>20.43</td>\n",
       "      <td>22.40</td>\n",
       "      <td>37.32</td>\n",
       "      <td>36.01</td>\n",
       "      <td>71.59</td>\n",
       "    </tr>\n",
       "    <tr>\n",
       "      <th>222</th>\n",
       "      <td>1.0</td>\n",
       "      <td>35.92</td>\n",
       "      <td>45.84</td>\n",
       "      <td>47.99</td>\n",
       "      <td>74.58</td>\n",
       "      <td>87.97</td>\n",
       "      <td>87.97</td>\n",
       "      <td>105.23</td>\n",
       "      <td>131.70</td>\n",
       "      <td>130.00</td>\n",
       "      <td>...</td>\n",
       "      <td>39.71</td>\n",
       "      <td>-2.53</td>\n",
       "      <td>-2.53</td>\n",
       "      <td>15.32</td>\n",
       "      <td>18.65</td>\n",
       "      <td>20.43</td>\n",
       "      <td>22.40</td>\n",
       "      <td>37.32</td>\n",
       "      <td>36.01</td>\n",
       "      <td>71.59</td>\n",
       "    </tr>\n",
       "    <tr>\n",
       "      <th>223</th>\n",
       "      <td>1.0</td>\n",
       "      <td>35.92</td>\n",
       "      <td>45.84</td>\n",
       "      <td>47.99</td>\n",
       "      <td>74.58</td>\n",
       "      <td>87.97</td>\n",
       "      <td>87.97</td>\n",
       "      <td>105.23</td>\n",
       "      <td>131.70</td>\n",
       "      <td>130.00</td>\n",
       "      <td>...</td>\n",
       "      <td>39.71</td>\n",
       "      <td>-2.53</td>\n",
       "      <td>-2.53</td>\n",
       "      <td>15.32</td>\n",
       "      <td>18.65</td>\n",
       "      <td>20.43</td>\n",
       "      <td>22.40</td>\n",
       "      <td>37.32</td>\n",
       "      <td>36.01</td>\n",
       "      <td>71.59</td>\n",
       "    </tr>\n",
       "    <tr>\n",
       "      <th>224</th>\n",
       "      <td>1.0</td>\n",
       "      <td>35.92</td>\n",
       "      <td>45.84</td>\n",
       "      <td>47.99</td>\n",
       "      <td>74.58</td>\n",
       "      <td>87.97</td>\n",
       "      <td>87.97</td>\n",
       "      <td>105.23</td>\n",
       "      <td>131.70</td>\n",
       "      <td>130.00</td>\n",
       "      <td>...</td>\n",
       "      <td>39.71</td>\n",
       "      <td>-2.53</td>\n",
       "      <td>-2.53</td>\n",
       "      <td>15.32</td>\n",
       "      <td>18.65</td>\n",
       "      <td>20.43</td>\n",
       "      <td>22.40</td>\n",
       "      <td>37.32</td>\n",
       "      <td>36.01</td>\n",
       "      <td>71.59</td>\n",
       "    </tr>\n",
       "  </tbody>\n",
       "</table>\n",
       "<p>225 rows × 3198 columns</p>\n",
       "</div>"
      ],
      "text/plain": [
       "     0      1      2      3      4      5      6       7       8       9     \\\n",
       "0     1.0  31.29  25.14  36.93  16.63  17.01  -7.50    0.09    1.24  -19.82   \n",
       "1     1.0  31.29  25.14  36.93  16.63  17.01  -7.50    0.09    1.24  -19.82   \n",
       "2     1.0  31.29  25.14  36.93  16.63  17.01  -7.50    0.09    1.24  -19.82   \n",
       "3     1.0  31.29  25.14  36.93  16.63  17.01  -7.50    0.09    1.24  -19.82   \n",
       "4     1.0  31.29  25.14  36.93  16.63  17.01  -7.50    0.09    1.24  -19.82   \n",
       "..    ...    ...    ...    ...    ...    ...    ...     ...     ...     ...   \n",
       "220   1.0  35.92  45.84  47.99  74.58  87.97  87.97  105.23  131.70  130.00   \n",
       "221   1.0  35.92  45.84  47.99  74.58  87.97  87.97  105.23  131.70  130.00   \n",
       "222   1.0  35.92  45.84  47.99  74.58  87.97  87.97  105.23  131.70  130.00   \n",
       "223   1.0  35.92  45.84  47.99  74.58  87.97  87.97  105.23  131.70  130.00   \n",
       "224   1.0  35.92  45.84  47.99  74.58  87.97  87.97  105.23  131.70  130.00   \n",
       "\n",
       "     ...   3188   3189   3190   3191   3192   3193   3194   3195   3196   3197  \n",
       "0    ...  11.36  12.96  28.50  51.05  25.85   4.79  13.26 -17.58  13.79   0.72  \n",
       "1    ...  11.36  12.96  28.50  51.05  25.85   4.79  13.26 -17.58  13.79   0.72  \n",
       "2    ...  11.36  12.96  28.50  51.05  25.85   4.79  13.26 -17.58  13.79   0.72  \n",
       "3    ...  11.36  12.96  28.50  51.05  25.85   4.79  13.26 -17.58  13.79   0.72  \n",
       "4    ...  11.36  12.96  28.50  51.05  25.85   4.79  13.26 -17.58  13.79   0.72  \n",
       "..   ...    ...    ...    ...    ...    ...    ...    ...    ...    ...    ...  \n",
       "220  ...  39.71  -2.53  -2.53  15.32  18.65  20.43  22.40  37.32  36.01  71.59  \n",
       "221  ...  39.71  -2.53  -2.53  15.32  18.65  20.43  22.40  37.32  36.01  71.59  \n",
       "222  ...  39.71  -2.53  -2.53  15.32  18.65  20.43  22.40  37.32  36.01  71.59  \n",
       "223  ...  39.71  -2.53  -2.53  15.32  18.65  20.43  22.40  37.32  36.01  71.59  \n",
       "224  ...  39.71  -2.53  -2.53  15.32  18.65  20.43  22.40  37.32  36.01  71.59  \n",
       "\n",
       "[225 rows x 3198 columns]"
      ]
     },
     "execution_count": 38,
     "metadata": {},
     "output_type": "execute_result"
    }
   ],
   "source": [
    "new_df = pd.DataFrame(np.repeat(df_train[df_train['LABEL']==1].values, 9, axis=0))\n",
    "new_df"
   ]
  },
  {
   "cell_type": "code",
   "execution_count": 39,
   "id": "0d33652b",
   "metadata": {},
   "outputs": [
    {
     "data": {
      "text/html": [
       "<div>\n",
       "<style scoped>\n",
       "    .dataframe tbody tr th:only-of-type {\n",
       "        vertical-align: middle;\n",
       "    }\n",
       "\n",
       "    .dataframe tbody tr th {\n",
       "        vertical-align: top;\n",
       "    }\n",
       "\n",
       "    .dataframe thead th {\n",
       "        text-align: right;\n",
       "    }\n",
       "</style>\n",
       "<table border=\"1\" class=\"dataframe\">\n",
       "  <thead>\n",
       "    <tr style=\"text-align: right;\">\n",
       "      <th></th>\n",
       "      <th>LABEL</th>\n",
       "      <th>FLUX.1</th>\n",
       "      <th>FLUX.2</th>\n",
       "      <th>FLUX.3</th>\n",
       "      <th>FLUX.4</th>\n",
       "      <th>FLUX.5</th>\n",
       "      <th>FLUX.6</th>\n",
       "      <th>FLUX.7</th>\n",
       "      <th>FLUX.8</th>\n",
       "      <th>FLUX.9</th>\n",
       "      <th>...</th>\n",
       "      <th>FLUX.3188</th>\n",
       "      <th>FLUX.3189</th>\n",
       "      <th>FLUX.3190</th>\n",
       "      <th>FLUX.3191</th>\n",
       "      <th>FLUX.3192</th>\n",
       "      <th>FLUX.3193</th>\n",
       "      <th>FLUX.3194</th>\n",
       "      <th>FLUX.3195</th>\n",
       "      <th>FLUX.3196</th>\n",
       "      <th>FLUX.3197</th>\n",
       "    </tr>\n",
       "  </thead>\n",
       "  <tbody>\n",
       "    <tr>\n",
       "      <th>0</th>\n",
       "      <td>1.0</td>\n",
       "      <td>31.29</td>\n",
       "      <td>25.14</td>\n",
       "      <td>36.93</td>\n",
       "      <td>16.63</td>\n",
       "      <td>17.01</td>\n",
       "      <td>-7.50</td>\n",
       "      <td>0.09</td>\n",
       "      <td>1.24</td>\n",
       "      <td>-19.82</td>\n",
       "      <td>...</td>\n",
       "      <td>11.36</td>\n",
       "      <td>12.96</td>\n",
       "      <td>28.50</td>\n",
       "      <td>51.05</td>\n",
       "      <td>25.85</td>\n",
       "      <td>4.79</td>\n",
       "      <td>13.26</td>\n",
       "      <td>-17.58</td>\n",
       "      <td>13.79</td>\n",
       "      <td>0.72</td>\n",
       "    </tr>\n",
       "    <tr>\n",
       "      <th>1</th>\n",
       "      <td>1.0</td>\n",
       "      <td>31.29</td>\n",
       "      <td>25.14</td>\n",
       "      <td>36.93</td>\n",
       "      <td>16.63</td>\n",
       "      <td>17.01</td>\n",
       "      <td>-7.50</td>\n",
       "      <td>0.09</td>\n",
       "      <td>1.24</td>\n",
       "      <td>-19.82</td>\n",
       "      <td>...</td>\n",
       "      <td>11.36</td>\n",
       "      <td>12.96</td>\n",
       "      <td>28.50</td>\n",
       "      <td>51.05</td>\n",
       "      <td>25.85</td>\n",
       "      <td>4.79</td>\n",
       "      <td>13.26</td>\n",
       "      <td>-17.58</td>\n",
       "      <td>13.79</td>\n",
       "      <td>0.72</td>\n",
       "    </tr>\n",
       "    <tr>\n",
       "      <th>2</th>\n",
       "      <td>1.0</td>\n",
       "      <td>31.29</td>\n",
       "      <td>25.14</td>\n",
       "      <td>36.93</td>\n",
       "      <td>16.63</td>\n",
       "      <td>17.01</td>\n",
       "      <td>-7.50</td>\n",
       "      <td>0.09</td>\n",
       "      <td>1.24</td>\n",
       "      <td>-19.82</td>\n",
       "      <td>...</td>\n",
       "      <td>11.36</td>\n",
       "      <td>12.96</td>\n",
       "      <td>28.50</td>\n",
       "      <td>51.05</td>\n",
       "      <td>25.85</td>\n",
       "      <td>4.79</td>\n",
       "      <td>13.26</td>\n",
       "      <td>-17.58</td>\n",
       "      <td>13.79</td>\n",
       "      <td>0.72</td>\n",
       "    </tr>\n",
       "    <tr>\n",
       "      <th>3</th>\n",
       "      <td>1.0</td>\n",
       "      <td>31.29</td>\n",
       "      <td>25.14</td>\n",
       "      <td>36.93</td>\n",
       "      <td>16.63</td>\n",
       "      <td>17.01</td>\n",
       "      <td>-7.50</td>\n",
       "      <td>0.09</td>\n",
       "      <td>1.24</td>\n",
       "      <td>-19.82</td>\n",
       "      <td>...</td>\n",
       "      <td>11.36</td>\n",
       "      <td>12.96</td>\n",
       "      <td>28.50</td>\n",
       "      <td>51.05</td>\n",
       "      <td>25.85</td>\n",
       "      <td>4.79</td>\n",
       "      <td>13.26</td>\n",
       "      <td>-17.58</td>\n",
       "      <td>13.79</td>\n",
       "      <td>0.72</td>\n",
       "    </tr>\n",
       "    <tr>\n",
       "      <th>4</th>\n",
       "      <td>1.0</td>\n",
       "      <td>31.29</td>\n",
       "      <td>25.14</td>\n",
       "      <td>36.93</td>\n",
       "      <td>16.63</td>\n",
       "      <td>17.01</td>\n",
       "      <td>-7.50</td>\n",
       "      <td>0.09</td>\n",
       "      <td>1.24</td>\n",
       "      <td>-19.82</td>\n",
       "      <td>...</td>\n",
       "      <td>11.36</td>\n",
       "      <td>12.96</td>\n",
       "      <td>28.50</td>\n",
       "      <td>51.05</td>\n",
       "      <td>25.85</td>\n",
       "      <td>4.79</td>\n",
       "      <td>13.26</td>\n",
       "      <td>-17.58</td>\n",
       "      <td>13.79</td>\n",
       "      <td>0.72</td>\n",
       "    </tr>\n",
       "    <tr>\n",
       "      <th>...</th>\n",
       "      <td>...</td>\n",
       "      <td>...</td>\n",
       "      <td>...</td>\n",
       "      <td>...</td>\n",
       "      <td>...</td>\n",
       "      <td>...</td>\n",
       "      <td>...</td>\n",
       "      <td>...</td>\n",
       "      <td>...</td>\n",
       "      <td>...</td>\n",
       "      <td>...</td>\n",
       "      <td>...</td>\n",
       "      <td>...</td>\n",
       "      <td>...</td>\n",
       "      <td>...</td>\n",
       "      <td>...</td>\n",
       "      <td>...</td>\n",
       "      <td>...</td>\n",
       "      <td>...</td>\n",
       "      <td>...</td>\n",
       "      <td>...</td>\n",
       "    </tr>\n",
       "    <tr>\n",
       "      <th>220</th>\n",
       "      <td>1.0</td>\n",
       "      <td>35.92</td>\n",
       "      <td>45.84</td>\n",
       "      <td>47.99</td>\n",
       "      <td>74.58</td>\n",
       "      <td>87.97</td>\n",
       "      <td>87.97</td>\n",
       "      <td>105.23</td>\n",
       "      <td>131.70</td>\n",
       "      <td>130.00</td>\n",
       "      <td>...</td>\n",
       "      <td>39.71</td>\n",
       "      <td>-2.53</td>\n",
       "      <td>-2.53</td>\n",
       "      <td>15.32</td>\n",
       "      <td>18.65</td>\n",
       "      <td>20.43</td>\n",
       "      <td>22.40</td>\n",
       "      <td>37.32</td>\n",
       "      <td>36.01</td>\n",
       "      <td>71.59</td>\n",
       "    </tr>\n",
       "    <tr>\n",
       "      <th>221</th>\n",
       "      <td>1.0</td>\n",
       "      <td>35.92</td>\n",
       "      <td>45.84</td>\n",
       "      <td>47.99</td>\n",
       "      <td>74.58</td>\n",
       "      <td>87.97</td>\n",
       "      <td>87.97</td>\n",
       "      <td>105.23</td>\n",
       "      <td>131.70</td>\n",
       "      <td>130.00</td>\n",
       "      <td>...</td>\n",
       "      <td>39.71</td>\n",
       "      <td>-2.53</td>\n",
       "      <td>-2.53</td>\n",
       "      <td>15.32</td>\n",
       "      <td>18.65</td>\n",
       "      <td>20.43</td>\n",
       "      <td>22.40</td>\n",
       "      <td>37.32</td>\n",
       "      <td>36.01</td>\n",
       "      <td>71.59</td>\n",
       "    </tr>\n",
       "    <tr>\n",
       "      <th>222</th>\n",
       "      <td>1.0</td>\n",
       "      <td>35.92</td>\n",
       "      <td>45.84</td>\n",
       "      <td>47.99</td>\n",
       "      <td>74.58</td>\n",
       "      <td>87.97</td>\n",
       "      <td>87.97</td>\n",
       "      <td>105.23</td>\n",
       "      <td>131.70</td>\n",
       "      <td>130.00</td>\n",
       "      <td>...</td>\n",
       "      <td>39.71</td>\n",
       "      <td>-2.53</td>\n",
       "      <td>-2.53</td>\n",
       "      <td>15.32</td>\n",
       "      <td>18.65</td>\n",
       "      <td>20.43</td>\n",
       "      <td>22.40</td>\n",
       "      <td>37.32</td>\n",
       "      <td>36.01</td>\n",
       "      <td>71.59</td>\n",
       "    </tr>\n",
       "    <tr>\n",
       "      <th>223</th>\n",
       "      <td>1.0</td>\n",
       "      <td>35.92</td>\n",
       "      <td>45.84</td>\n",
       "      <td>47.99</td>\n",
       "      <td>74.58</td>\n",
       "      <td>87.97</td>\n",
       "      <td>87.97</td>\n",
       "      <td>105.23</td>\n",
       "      <td>131.70</td>\n",
       "      <td>130.00</td>\n",
       "      <td>...</td>\n",
       "      <td>39.71</td>\n",
       "      <td>-2.53</td>\n",
       "      <td>-2.53</td>\n",
       "      <td>15.32</td>\n",
       "      <td>18.65</td>\n",
       "      <td>20.43</td>\n",
       "      <td>22.40</td>\n",
       "      <td>37.32</td>\n",
       "      <td>36.01</td>\n",
       "      <td>71.59</td>\n",
       "    </tr>\n",
       "    <tr>\n",
       "      <th>224</th>\n",
       "      <td>1.0</td>\n",
       "      <td>35.92</td>\n",
       "      <td>45.84</td>\n",
       "      <td>47.99</td>\n",
       "      <td>74.58</td>\n",
       "      <td>87.97</td>\n",
       "      <td>87.97</td>\n",
       "      <td>105.23</td>\n",
       "      <td>131.70</td>\n",
       "      <td>130.00</td>\n",
       "      <td>...</td>\n",
       "      <td>39.71</td>\n",
       "      <td>-2.53</td>\n",
       "      <td>-2.53</td>\n",
       "      <td>15.32</td>\n",
       "      <td>18.65</td>\n",
       "      <td>20.43</td>\n",
       "      <td>22.40</td>\n",
       "      <td>37.32</td>\n",
       "      <td>36.01</td>\n",
       "      <td>71.59</td>\n",
       "    </tr>\n",
       "  </tbody>\n",
       "</table>\n",
       "<p>225 rows × 3198 columns</p>\n",
       "</div>"
      ],
      "text/plain": [
       "     LABEL  FLUX.1  FLUX.2  FLUX.3  FLUX.4  FLUX.5  FLUX.6  FLUX.7  FLUX.8  \\\n",
       "0      1.0   31.29   25.14   36.93   16.63   17.01   -7.50    0.09    1.24   \n",
       "1      1.0   31.29   25.14   36.93   16.63   17.01   -7.50    0.09    1.24   \n",
       "2      1.0   31.29   25.14   36.93   16.63   17.01   -7.50    0.09    1.24   \n",
       "3      1.0   31.29   25.14   36.93   16.63   17.01   -7.50    0.09    1.24   \n",
       "4      1.0   31.29   25.14   36.93   16.63   17.01   -7.50    0.09    1.24   \n",
       "..     ...     ...     ...     ...     ...     ...     ...     ...     ...   \n",
       "220    1.0   35.92   45.84   47.99   74.58   87.97   87.97  105.23  131.70   \n",
       "221    1.0   35.92   45.84   47.99   74.58   87.97   87.97  105.23  131.70   \n",
       "222    1.0   35.92   45.84   47.99   74.58   87.97   87.97  105.23  131.70   \n",
       "223    1.0   35.92   45.84   47.99   74.58   87.97   87.97  105.23  131.70   \n",
       "224    1.0   35.92   45.84   47.99   74.58   87.97   87.97  105.23  131.70   \n",
       "\n",
       "     FLUX.9  ...  FLUX.3188  FLUX.3189  FLUX.3190  FLUX.3191  FLUX.3192  \\\n",
       "0    -19.82  ...      11.36      12.96      28.50      51.05      25.85   \n",
       "1    -19.82  ...      11.36      12.96      28.50      51.05      25.85   \n",
       "2    -19.82  ...      11.36      12.96      28.50      51.05      25.85   \n",
       "3    -19.82  ...      11.36      12.96      28.50      51.05      25.85   \n",
       "4    -19.82  ...      11.36      12.96      28.50      51.05      25.85   \n",
       "..      ...  ...        ...        ...        ...        ...        ...   \n",
       "220  130.00  ...      39.71      -2.53      -2.53      15.32      18.65   \n",
       "221  130.00  ...      39.71      -2.53      -2.53      15.32      18.65   \n",
       "222  130.00  ...      39.71      -2.53      -2.53      15.32      18.65   \n",
       "223  130.00  ...      39.71      -2.53      -2.53      15.32      18.65   \n",
       "224  130.00  ...      39.71      -2.53      -2.53      15.32      18.65   \n",
       "\n",
       "     FLUX.3193  FLUX.3194  FLUX.3195  FLUX.3196  FLUX.3197  \n",
       "0         4.79      13.26     -17.58      13.79       0.72  \n",
       "1         4.79      13.26     -17.58      13.79       0.72  \n",
       "2         4.79      13.26     -17.58      13.79       0.72  \n",
       "3         4.79      13.26     -17.58      13.79       0.72  \n",
       "4         4.79      13.26     -17.58      13.79       0.72  \n",
       "..         ...        ...        ...        ...        ...  \n",
       "220      20.43      22.40      37.32      36.01      71.59  \n",
       "221      20.43      22.40      37.32      36.01      71.59  \n",
       "222      20.43      22.40      37.32      36.01      71.59  \n",
       "223      20.43      22.40      37.32      36.01      71.59  \n",
       "224      20.43      22.40      37.32      36.01      71.59  \n",
       "\n",
       "[225 rows x 3198 columns]"
      ]
     },
     "execution_count": 39,
     "metadata": {},
     "output_type": "execute_result"
    }
   ],
   "source": [
    "new_df.columns = df_train.columns\n",
    "new_df"
   ]
  },
  {
   "cell_type": "code",
   "execution_count": 40,
   "id": "2e30d595",
   "metadata": {},
   "outputs": [
    {
     "data": {
      "text/plain": [
       "0.0    275\n",
       "1.0    250\n",
       "Name: LABEL, dtype: int64"
      ]
     },
     "execution_count": 40,
     "metadata": {},
     "output_type": "execute_result"
    }
   ],
   "source": [
    "df_train_resample = pd.concat([df_train, new_df])\n",
    "df_train_resample['LABEL'].value_counts()"
   ]
  },
  {
   "cell_type": "code",
   "execution_count": 42,
   "id": "3143e77a",
   "metadata": {},
   "outputs": [
    {
     "data": {
      "text/plain": [
       "XGBClassifier(base_score=None, booster=None, callbacks=None,\n",
       "              colsample_bylevel=None, colsample_bynode=None,\n",
       "              colsample_bytree=None, early_stopping_rounds=None,\n",
       "              enable_categorical=False, eval_metric=None, feature_types=None,\n",
       "              gamma=None, gpu_id=None, grow_policy=None, importance_type=None,\n",
       "              interaction_constraints=None, learning_rate=None, max_bin=None,\n",
       "              max_cat_threshold=None, max_cat_to_onehot=None,\n",
       "              max_delta_step=None, max_depth=None, max_leaves=None,\n",
       "              min_child_weight=None, missing=nan, monotone_constraints=None,\n",
       "              n_estimators=100, n_jobs=None, num_parallel_tree=None,\n",
       "              predictor=None, random_state=None, ...)"
      ]
     },
     "execution_count": 42,
     "metadata": {},
     "output_type": "execute_result"
    }
   ],
   "source": [
    "X_train_resample = df_train_resample.iloc[:, 1:]\n",
    "y_train_resample = df_train_resample.iloc[:, 0]\n",
    "\n",
    "model = XGBClassifier()\n",
    "model.fit(X_train_resample, y_train_resample)"
   ]
  },
  {
   "cell_type": "code",
   "execution_count": 44,
   "id": "2a0b0e69",
   "metadata": {},
   "outputs": [
    {
     "name": "stdout",
     "output_type": "stream",
     "text": [
      "[[86  2]\n",
      " [ 8  4]]\n",
      "              precision    recall  f1-score   support\n",
      "\n",
      "           0       0.91      0.98      0.95        88\n",
      "           1       0.67      0.33      0.44        12\n",
      "\n",
      "    accuracy                           0.90       100\n",
      "   macro avg       0.79      0.66      0.69       100\n",
      "weighted avg       0.89      0.90      0.88       100\n",
      "\n",
      "0.3333333333333333\n"
     ]
    }
   ],
   "source": [
    "y_pred = model.predict(X_test)\n",
    "score = recall_score(y_test, y_pred, pos_label=1)\n",
    "\n",
    "print(confusion_matrix(y_test, y_pred))\n",
    "print(classification_report(y_test, y_pred))\n",
    "print(score)"
   ]
  },
  {
   "cell_type": "markdown",
   "id": "9fb13261",
   "metadata": {},
   "source": [
    "## 7.4 XGBClassifier 튜닝\n",
    "### 7.4.1 가중치 조정하기\n",
    "scale_pos_weight는 양성 샘플의 가중치를 조정하기 위해 사용(사이킷런은 타깃값 1을 양성으로, 0을 음성으로 생각한다.)"
   ]
  },
  {
   "cell_type": "code",
   "execution_count": 46,
   "id": "d656a9a8",
   "metadata": {},
   "outputs": [
    {
     "data": {
      "text/plain": [
       "0    363\n",
       "1     37\n",
       "Name: LABEL, dtype: int64"
      ]
     },
     "execution_count": 46,
     "metadata": {},
     "output_type": "execute_result"
    }
   ],
   "source": [
    "df['LABEL'].value_counts()"
   ]
  },
  {
   "cell_type": "markdown",
   "id": "0e4ce876",
   "metadata": {},
   "source": [
    "##### scale_pos_weight"
   ]
  },
  {
   "cell_type": "code",
   "execution_count": 47,
   "id": "0752b57f",
   "metadata": {},
   "outputs": [],
   "source": [
    "X = df.iloc[:, 1:]\n",
    "y = df.iloc[:, 0]\n",
    "\n",
    "X_train, X_test, y_train, y_test = train_test_split(X, y, random_state=2)"
   ]
  },
  {
   "cell_type": "code",
   "execution_count": 48,
   "id": "0d15298b",
   "metadata": {},
   "outputs": [
    {
     "name": "stdout",
     "output_type": "stream",
     "text": [
      "[[86  2]\n",
      " [ 8  4]]\n",
      "              precision    recall  f1-score   support\n",
      "\n",
      "           0       0.91      0.98      0.95        88\n",
      "           1       0.67      0.33      0.44        12\n",
      "\n",
      "    accuracy                           0.90       100\n",
      "   macro avg       0.79      0.66      0.69       100\n",
      "weighted avg       0.89      0.90      0.88       100\n",
      "\n",
      "0.3333333333333333\n"
     ]
    }
   ],
   "source": [
    "model = XGBClassifier(scale_pos_weight=10)\n",
    "model.fit(X_train, y_train)\n",
    "y_pred = model.predict(X_test)\n",
    "score = recall_score(y_test, y_pred)\n",
    "\n",
    "print(confusion_matrix(y_test, y_pred))\n",
    "print(classification_report(y_test, y_pred))\n",
    "print(score)"
   ]
  },
  {
   "cell_type": "markdown",
   "id": "e3534295",
   "metadata": {},
   "source": [
    "### 7.4.2 XGBClassifier 튜닝"
   ]
  },
  {
   "cell_type": "code",
   "execution_count": 49,
   "id": "4037dd7e",
   "metadata": {},
   "outputs": [],
   "source": [
    "from sklearn.model_selection import GridSearchCV, RandomizedSearchCV, StratifiedKFold, cross_val_score"
   ]
  },
  {
   "cell_type": "code",
   "execution_count": 51,
   "id": "16b5e2a4",
   "metadata": {},
   "outputs": [],
   "source": [
    "kfold = StratifiedKFold(n_splits=2, shuffle=True, random_state=2)\n",
    "\n",
    "model = XGBClassifier(scale_pos_weight=10)"
   ]
  },
  {
   "cell_type": "code",
   "execution_count": 52,
   "id": "bbfb1d62",
   "metadata": {},
   "outputs": [
    {
     "name": "stdout",
     "output_type": "stream",
     "text": [
      "재현율:  [0.10526316 0.27777778]\n",
      "재현율 평균:  0.1915204678362573\n"
     ]
    }
   ],
   "source": [
    "scores = cross_val_score(model, X, y, cv=kfold, scoring='recall')\n",
    "print('재현율: ', scores)\n",
    "print('재현율 평균: ', scores.mean())"
   ]
  },
  {
   "cell_type": "code",
   "execution_count": 54,
   "id": "aa7aecd4",
   "metadata": {},
   "outputs": [],
   "source": [
    "def grid_search(params, random=False, X=X, y=y, \n",
    "               model=XGBClassifier(scale_pos_weight=10, random_state=2)):\n",
    "    xgb = model\n",
    "    if random:\n",
    "        grid = RandomizedSearchCV(xgb, params, cv=kfold, n_jobs=-1,\n",
    "                                 random_state=2, scoring='recall')\n",
    "    else:\n",
    "        grid = GridSearchCV(xgb, params, cv=kfold, n_jobs=-1, scoring='recall')\n",
    "    grid.fit(X, y)\n",
    "    best_params = grid.best_params_\n",
    "    print(\"최상의 매개변수:\", best_params)\n",
    "    best_score = grid.best_score_\n",
    "    print(f\"최상의 점수: {best_score:.5f}\")"
   ]
  },
  {
   "cell_type": "code",
   "execution_count": 55,
   "id": "3e5fcaa7",
   "metadata": {},
   "outputs": [
    {
     "name": "stdout",
     "output_type": "stream",
     "text": [
      "최상의 매개변수: {'n_estimators': 50}\n",
      "최상의 점수: 0.19152\n"
     ]
    }
   ],
   "source": [
    "grid_search(params={'n_estimators':[50, 200, 400, 800]})"
   ]
  },
  {
   "cell_type": "code",
   "execution_count": 56,
   "id": "21d3ca32",
   "metadata": {},
   "outputs": [
    {
     "name": "stdout",
     "output_type": "stream",
     "text": [
      "최상의 매개변수: {'learning_rate': 0.01}\n",
      "최상의 점수: 0.40351\n"
     ]
    }
   ],
   "source": [
    "grid_search(params={'learning_rate':[0.01, 0.05, 0.2, 0.3]})"
   ]
  },
  {
   "cell_type": "code",
   "execution_count": 57,
   "id": "7cf9c45d",
   "metadata": {},
   "outputs": [
    {
     "name": "stdout",
     "output_type": "stream",
     "text": [
      "최상의 매개변수: {'max_depth': 2}\n",
      "최상의 점수: 0.24415\n"
     ]
    }
   ],
   "source": [
    "grid_search(params={'max_depth':[1, 2, 4, 8]})"
   ]
  },
  {
   "cell_type": "code",
   "execution_count": 58,
   "id": "d16ba593",
   "metadata": {},
   "outputs": [
    {
     "name": "stdout",
     "output_type": "stream",
     "text": [
      "최상의 매개변수: {'subsample': 0.3}\n",
      "최상의 점수: 0.24561\n"
     ]
    }
   ],
   "source": [
    "grid_search(params={'subsample':[0.3, 0.5, 0.7, 0.9]})"
   ]
  },
  {
   "cell_type": "code",
   "execution_count": 59,
   "id": "10a52b31",
   "metadata": {},
   "outputs": [
    {
     "name": "stdout",
     "output_type": "stream",
     "text": [
      "최상의 매개변수: {'gamma': 0.05}\n",
      "최상의 점수: 0.24415\n"
     ]
    }
   ],
   "source": [
    "grid_search(params={'gamma':[0.05, 0.1, 0.5, 1]})"
   ]
  },
  {
   "cell_type": "code",
   "execution_count": 60,
   "id": "6153cbcc",
   "metadata": {},
   "outputs": [
    {
     "name": "stdout",
     "output_type": "stream",
     "text": [
      "최상의 매개변수: {'gamma': 0.025, 'learning_rate': 0.001, 'max_depth': 2}\n",
      "최상의 점수: 0.53509\n"
     ]
    }
   ],
   "source": [
    "grid_search(params={'learning_rate':[0.001, 0.01, 0.03],\n",
    "                   'max_depth':[1, 2],\n",
    "                   'gamma':[0.025, 0.05, 0.5]})"
   ]
  },
  {
   "cell_type": "code",
   "execution_count": 61,
   "id": "2bbd9d16",
   "metadata": {},
   "outputs": [
    {
     "name": "stdout",
     "output_type": "stream",
     "text": [
      "최상의 매개변수: {'gamma': 0.025, 'learning_rate': 0.03, 'max_depth': 1, 'subsample': 0.25}\n",
      "최상의 점수: 0.27339\n"
     ]
    }
   ],
   "source": [
    "grid_search(params={'learning_rate':[0.001, 0.01, 0.03],\n",
    "                   'max_depth':[1, 2],\n",
    "                   'gamma':[0.025, 0.05, 0.5],\n",
    "                   'subsample':[0.25, 0.3, 0.35]})"
   ]
  },
  {
   "cell_type": "code",
   "execution_count": 64,
   "id": "f8fcc917",
   "metadata": {},
   "outputs": [
    {
     "name": "stdout",
     "output_type": "stream",
     "text": [
      "최상의 매개변수: {'max_delta_step': 1}\n",
      "최상의 점수: 0.24415\n"
     ]
    }
   ],
   "source": [
    "grid_search(params={'max_delta_step':[1, 3, 5, 7]})\n",
    "# XGBoost는 불균형한 데이터셋에서만 이 매개변수를 권장한다. 기본값은 0이며 값을 증가시키면 더 보수적인 모델이 만들어진다. "
   ]
  },
  {
   "cell_type": "code",
   "execution_count": 65,
   "id": "d8778c7c",
   "metadata": {},
   "outputs": [
    {
     "name": "stdout",
     "output_type": "stream",
     "text": [
      "최상의 매개변수: {'subsample': 0.3, 'colsample_bytree': 0.9, 'colsample_bynode': 0.9, 'colsample_bylevel': 0.9}\n",
      "최상의 점수: 0.40936\n"
     ]
    }
   ],
   "source": [
    "grid_search(params={'subsample':[0.3, 0.5, 0.7, 0.9, 1],\n",
    "                   'colsample_bylevel':[0.3, 0.5, 0.7, 0.9, 1],\n",
    "                   'colsample_bynode':[0.3, 0.5, 0.7, 0.9, 1],\n",
    "                   'colsample_bytree':[0.3, 0.5, 0.7, 0.9, 1]}, random=True)"
   ]
  },
  {
   "cell_type": "markdown",
   "id": "b2708b77",
   "metadata": {},
   "source": [
    "##### 균형잡힌 서브셋"
   ]
  },
  {
   "cell_type": "code",
   "execution_count": 66,
   "id": "e57a7971",
   "metadata": {},
   "outputs": [],
   "source": [
    "X_short = X.iloc[:74, :]\n",
    "y_short = y.iloc[:74]"
   ]
  },
  {
   "cell_type": "code",
   "execution_count": 67,
   "id": "bc2d2d7c",
   "metadata": {},
   "outputs": [
    {
     "name": "stdout",
     "output_type": "stream",
     "text": [
      "최상의 매개변수: {'colsample_bynode': 1, 'max_depth': 1}\n",
      "최상의 점수: 0.62573\n"
     ]
    }
   ],
   "source": [
    "grid_search(params={'max_depth':[1, 2, 3],\n",
    "                   'colsample_bynode':[0.5, 0.75, 1]},\n",
    "           X=X_short, y=y_short,\n",
    "           model=XGBClassifier(random_state=2))"
   ]
  },
  {
   "cell_type": "markdown",
   "id": "ba49fe07",
   "metadata": {},
   "source": [
    "##### 전체 데이터로 튜닝하기"
   ]
  },
  {
   "cell_type": "code",
   "execution_count": 68,
   "id": "787ec490",
   "metadata": {},
   "outputs": [],
   "source": [
    "df_all = pd.read_csv(data_path)\n",
    "df_all['LABEL'] = df_all['LABEL'].replace({1:0, 2:1})"
   ]
  },
  {
   "cell_type": "code",
   "execution_count": 69,
   "id": "3697e9ad",
   "metadata": {},
   "outputs": [],
   "source": [
    "X_all = df_all.iloc[:, 1:]\n",
    "y_all = df_all.iloc[:, 0]"
   ]
  },
  {
   "cell_type": "code",
   "execution_count": 70,
   "id": "fd9efc3e",
   "metadata": {},
   "outputs": [
    {
     "data": {
      "text/plain": [
       "0    5050\n",
       "1      37\n",
       "Name: LABEL, dtype: int64"
      ]
     },
     "execution_count": 70,
     "metadata": {},
     "output_type": "execute_result"
    }
   ],
   "source": [
    "df_all['LABEL'].value_counts()"
   ]
  },
  {
   "cell_type": "code",
   "execution_count": 73,
   "id": "b1ec6d40",
   "metadata": {},
   "outputs": [],
   "source": [
    "weight = int(5050/37) # 음성 클래스 개수를 양성 클래스 개수로 나누어 가중치를 계산한다. "
   ]
  },
  {
   "cell_type": "code",
   "execution_count": 74,
   "id": "3f8606f0",
   "metadata": {},
   "outputs": [
    {
     "name": "stdout",
     "output_type": "stream",
     "text": [
      "재현율: [0.10526316 0.        ]\n",
      "재현율 평균: 0.05263157894736842\n"
     ]
    }
   ],
   "source": [
    "model = XGBClassifier(scale_pos_weight=weight)\n",
    "scores = cross_val_score(model, X_all, y_all, cv=kfold, scoring='recall')\n",
    "print('재현율:', scores)\n",
    "print('재현율 평균:', scores.mean())"
   ]
  },
  {
   "cell_type": "code",
   "execution_count": 75,
   "id": "741fd3cd",
   "metadata": {},
   "outputs": [
    {
     "name": "stdout",
     "output_type": "stream",
     "text": [
      "최상의 매개변수: {'learning_rate': 0.001}\n",
      "최상의 점수: 0.26316\n"
     ]
    }
   ],
   "source": [
    "grid_search(params={'learning_rate':[0.001, 0.01]}, X=X_all, y=y_all,\n",
    "           model=XGBClassifier(scale_pos_weight=weight))"
   ]
  },
  {
   "cell_type": "code",
   "execution_count": 76,
   "id": "057e7577",
   "metadata": {},
   "outputs": [
    {
     "name": "stdout",
     "output_type": "stream",
     "text": [
      "최상의 매개변수: {'learning_rate': 0.001, 'max_depth': 2}\n",
      "최상의 점수: 0.53509\n"
     ]
    }
   ],
   "source": [
    "grid_search(params={'max_depth':[1, 2], 'learning_rate':[0.001, 0.01]}, X=X_all, y=y_all,\n",
    "           model=XGBClassifier(scale_pos_weight=weight))"
   ]
  }
 ],
 "metadata": {
  "kernelspec": {
   "display_name": "Python 3 (ipykernel)",
   "language": "python",
   "name": "python3"
  },
  "language_info": {
   "codemirror_mode": {
    "name": "ipython",
    "version": 3
   },
   "file_extension": ".py",
   "mimetype": "text/x-python",
   "name": "python",
   "nbconvert_exporter": "python",
   "pygments_lexer": "ipython3",
   "version": "3.9.13"
  }
 },
 "nbformat": 4,
 "nbformat_minor": 5
}
