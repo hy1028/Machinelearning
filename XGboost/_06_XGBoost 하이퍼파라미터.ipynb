{
 "cells": [
  {
   "cell_type": "code",
   "execution_count": 1,
   "id": "a94fd00e",
   "metadata": {},
   "outputs": [],
   "source": [
    "import pandas as pd"
   ]
  },
  {
   "cell_type": "code",
   "execution_count": 3,
   "id": "2674e3e9",
   "metadata": {},
   "outputs": [
    {
     "data": {
      "text/html": [
       "<div>\n",
       "<style scoped>\n",
       "    .dataframe tbody tr th:only-of-type {\n",
       "        vertical-align: middle;\n",
       "    }\n",
       "\n",
       "    .dataframe tbody tr th {\n",
       "        vertical-align: top;\n",
       "    }\n",
       "\n",
       "    .dataframe thead th {\n",
       "        text-align: right;\n",
       "    }\n",
       "</style>\n",
       "<table border=\"1\" class=\"dataframe\">\n",
       "  <thead>\n",
       "    <tr style=\"text-align: right;\">\n",
       "      <th></th>\n",
       "      <th>age</th>\n",
       "      <th>sex</th>\n",
       "      <th>cp</th>\n",
       "      <th>trestbps</th>\n",
       "      <th>chol</th>\n",
       "      <th>fbs</th>\n",
       "      <th>restecg</th>\n",
       "      <th>thalach</th>\n",
       "      <th>exang</th>\n",
       "      <th>oldpeak</th>\n",
       "      <th>slope</th>\n",
       "      <th>ca</th>\n",
       "      <th>thal</th>\n",
       "      <th>target</th>\n",
       "    </tr>\n",
       "  </thead>\n",
       "  <tbody>\n",
       "    <tr>\n",
       "      <th>0</th>\n",
       "      <td>63</td>\n",
       "      <td>1</td>\n",
       "      <td>3</td>\n",
       "      <td>145</td>\n",
       "      <td>233</td>\n",
       "      <td>1</td>\n",
       "      <td>0</td>\n",
       "      <td>150</td>\n",
       "      <td>0</td>\n",
       "      <td>2.3</td>\n",
       "      <td>0</td>\n",
       "      <td>0</td>\n",
       "      <td>1</td>\n",
       "      <td>1</td>\n",
       "    </tr>\n",
       "    <tr>\n",
       "      <th>1</th>\n",
       "      <td>37</td>\n",
       "      <td>1</td>\n",
       "      <td>2</td>\n",
       "      <td>130</td>\n",
       "      <td>250</td>\n",
       "      <td>0</td>\n",
       "      <td>1</td>\n",
       "      <td>187</td>\n",
       "      <td>0</td>\n",
       "      <td>3.5</td>\n",
       "      <td>0</td>\n",
       "      <td>0</td>\n",
       "      <td>2</td>\n",
       "      <td>1</td>\n",
       "    </tr>\n",
       "    <tr>\n",
       "      <th>2</th>\n",
       "      <td>41</td>\n",
       "      <td>0</td>\n",
       "      <td>1</td>\n",
       "      <td>130</td>\n",
       "      <td>204</td>\n",
       "      <td>0</td>\n",
       "      <td>0</td>\n",
       "      <td>172</td>\n",
       "      <td>0</td>\n",
       "      <td>1.4</td>\n",
       "      <td>2</td>\n",
       "      <td>0</td>\n",
       "      <td>2</td>\n",
       "      <td>1</td>\n",
       "    </tr>\n",
       "    <tr>\n",
       "      <th>3</th>\n",
       "      <td>56</td>\n",
       "      <td>1</td>\n",
       "      <td>1</td>\n",
       "      <td>120</td>\n",
       "      <td>236</td>\n",
       "      <td>0</td>\n",
       "      <td>1</td>\n",
       "      <td>178</td>\n",
       "      <td>0</td>\n",
       "      <td>0.8</td>\n",
       "      <td>2</td>\n",
       "      <td>0</td>\n",
       "      <td>2</td>\n",
       "      <td>1</td>\n",
       "    </tr>\n",
       "    <tr>\n",
       "      <th>4</th>\n",
       "      <td>57</td>\n",
       "      <td>0</td>\n",
       "      <td>0</td>\n",
       "      <td>120</td>\n",
       "      <td>354</td>\n",
       "      <td>0</td>\n",
       "      <td>1</td>\n",
       "      <td>163</td>\n",
       "      <td>1</td>\n",
       "      <td>0.6</td>\n",
       "      <td>2</td>\n",
       "      <td>0</td>\n",
       "      <td>2</td>\n",
       "      <td>1</td>\n",
       "    </tr>\n",
       "  </tbody>\n",
       "</table>\n",
       "</div>"
      ],
      "text/plain": [
       "   age  sex  cp  trestbps  chol  fbs  restecg  thalach  exang  oldpeak  slope  \\\n",
       "0   63    1   3       145   233    1        0      150      0      2.3      0   \n",
       "1   37    1   2       130   250    0        1      187      0      3.5      0   \n",
       "2   41    0   1       130   204    0        0      172      0      1.4      2   \n",
       "3   56    1   1       120   236    0        1      178      0      0.8      2   \n",
       "4   57    0   0       120   354    0        1      163      1      0.6      2   \n",
       "\n",
       "   ca  thal  target  \n",
       "0   0     1       1  \n",
       "1   0     2       1  \n",
       "2   0     2       1  \n",
       "3   0     2       1  \n",
       "4   0     2       1  "
      ]
     },
     "execution_count": 3,
     "metadata": {},
     "output_type": "execute_result"
    }
   ],
   "source": [
    "data_path = '../../handson-gb-main/Chapter06/heart_disease.csv'\n",
    "df = pd.read_csv(data_path)\n",
    "df.head()"
   ]
  },
  {
   "cell_type": "code",
   "execution_count": 4,
   "id": "54dccc16",
   "metadata": {},
   "outputs": [
    {
     "name": "stdout",
     "output_type": "stream",
     "text": [
      "<class 'pandas.core.frame.DataFrame'>\n",
      "RangeIndex: 303 entries, 0 to 302\n",
      "Data columns (total 14 columns):\n",
      " #   Column    Non-Null Count  Dtype  \n",
      "---  ------    --------------  -----  \n",
      " 0   age       303 non-null    int64  \n",
      " 1   sex       303 non-null    int64  \n",
      " 2   cp        303 non-null    int64  \n",
      " 3   trestbps  303 non-null    int64  \n",
      " 4   chol      303 non-null    int64  \n",
      " 5   fbs       303 non-null    int64  \n",
      " 6   restecg   303 non-null    int64  \n",
      " 7   thalach   303 non-null    int64  \n",
      " 8   exang     303 non-null    int64  \n",
      " 9   oldpeak   303 non-null    float64\n",
      " 10  slope     303 non-null    int64  \n",
      " 11  ca        303 non-null    int64  \n",
      " 12  thal      303 non-null    int64  \n",
      " 13  target    303 non-null    int64  \n",
      "dtypes: float64(1), int64(13)\n",
      "memory usage: 33.3 KB\n"
     ]
    }
   ],
   "source": [
    "df.info()"
   ]
  },
  {
   "cell_type": "markdown",
   "id": "4b4da0e0",
   "metadata": {},
   "source": [
    "### 6.1.2 XGBClassifier"
   ]
  },
  {
   "cell_type": "code",
   "execution_count": 5,
   "id": "b4057f3d",
   "metadata": {},
   "outputs": [],
   "source": [
    "from xgboost import XGBClassifier \n",
    "from sklearn.metrics import accuracy_score \n",
    "\n",
    "X = df.iloc[:, :-1]\n",
    "y = df.iloc[:, -1]"
   ]
  },
  {
   "cell_type": "code",
   "execution_count": 6,
   "id": "bfeab34c",
   "metadata": {},
   "outputs": [],
   "source": [
    "model = XGBClassifier(booster='gbtree', objective='binary:logistic')"
   ]
  },
  {
   "cell_type": "markdown",
   "id": "e9ca75cf",
   "metadata": {},
   "source": [
    "'gbtree' 부스터는 그레이디언트 부스팅 트리  \n",
    "'binary:logistic' 목적 함수는 이진 분류의 기본 손실 함수  \n",
    "XGBClassifier는 이 두 설정이 기본값이지만 이후 장에서 이 값을 바꿀 때 익숙해지도록 사용해 봄. "
   ]
  },
  {
   "cell_type": "code",
   "execution_count": 7,
   "id": "eaa58165",
   "metadata": {},
   "outputs": [
    {
     "name": "stdout",
     "output_type": "stream",
     "text": [
      "정확도:  [0.84 0.85 0.82 0.8  0.77]\n",
      "정확도 평균: 0.81\n"
     ]
    }
   ],
   "source": [
    "from sklearn.model_selection import cross_val_score \n",
    "import numpy as np \n",
    "scores = cross_val_score(model, X, y, cv=5)\n",
    "print('정확도: ', np.round(scores, 2))\n",
    "print(f'정확도 평균: {scores.mean():.2f}')"
   ]
  },
  {
   "cell_type": "markdown",
   "id": "036a0956",
   "metadata": {},
   "source": [
    "### 6.1.3 StratifiedKFold\n",
    "교차 검증과 그리드 서치에서 분류 모델을 사용할 때 기본적으로 StratifiedKFold를 사용하여 폴드를 나눈다.  \n",
    "회귀 모델을 사용할 때는 KFold 클래스를 사용한다.  \n",
    "계층별 분할기(stratified splitter)인 StratifiedKFold는 각 폴드의 타깃 레이블의 비율을 동일하게 만든다. "
   ]
  },
  {
   "cell_type": "code",
   "execution_count": 8,
   "id": "8384257c",
   "metadata": {},
   "outputs": [],
   "source": [
    "from sklearn.model_selection import StratifiedKFold \n",
    "kfold = StratifiedKFold(n_splits=5, shuffle=True, random_state=2) # shuffle 지정 시 데이터를 나누기 전에 섞는다. \n",
    "# kfold 객체를 cross_val_score(), GridSearchCV, RandomizedSearchCV에 전달하여 폴드를 나누는 데 사용할 수 있다. "
   ]
  },
  {
   "cell_type": "code",
   "execution_count": 9,
   "id": "2910ae8c",
   "metadata": {},
   "outputs": [
    {
     "name": "stdout",
     "output_type": "stream",
     "text": [
      "정확도:  [0.72 0.82 0.75 0.8  0.82]\n",
      "정확도 평균: 0.78\n"
     ]
    }
   ],
   "source": [
    "scores = cross_val_score(model, X, y, cv=kfold)\n",
    "print('정확도: ', np.round(scores, 2))\n",
    "print(f'정확도 평균: {scores.mean():.2f}')"
   ]
  },
  {
   "cell_type": "markdown",
   "id": "ff1222cc",
   "metadata": {},
   "source": [
    "### 6.1.5 GridSearchCV와 RandomizedSearchCV 사용하기"
   ]
  },
  {
   "cell_type": "code",
   "execution_count": 10,
   "id": "ad89417f",
   "metadata": {},
   "outputs": [],
   "source": [
    "from sklearn.model_selection import GridSearchCV, RandomizedSearchCV\n",
    "kfold = StratifiedKFold(n_splits=5, shuffle=True, random_state=2)"
   ]
  },
  {
   "cell_type": "code",
   "execution_count": 15,
   "id": "d227fde4",
   "metadata": {},
   "outputs": [],
   "source": [
    "def grid_search(params, random=False):\n",
    "    xgb = XGBClassifier(booster='gbtree', objective='binary:logistic',\n",
    "                       random_state=2, verbosity=0)\n",
    "    kfold = StratifiedKFold(n_splits=5, shuffle=True, random_state=2)\n",
    "    if random:\n",
    "        grid = RandomizedSearchCV(xgb, params, cv=kfold, n_iter=20, n_jobs=-1, random_state=2)\n",
    "    else:\n",
    "        grid = GridSearchCV(xgb, params, cv=kfold, n_jobs=-1)\n",
    "    \n",
    "    grid.fit(X, y)\n",
    "    \n",
    "    best_params = grid.best_params_\n",
    "    print(\"최상의 매개변수: \", best_params)\n",
    "    best_score = grid.best_score_\n",
    "    print(f\"최상의 점수: {best_score:.5f}\")"
   ]
  },
  {
   "cell_type": "markdown",
   "id": "00380932",
   "metadata": {},
   "source": [
    "## 6.2 XGBoost 하이퍼파라미터 튜닝\n",
    "- n_estimators : 앙상블의 트리 개수, 잔차에 훈련되는 트리 개수이다.\n",
    "- learning_rate : 부스팅 각 단계에서 트리의 기여도를 감소시킨다. 과대적합 방지(기본값 : 0.3)\n",
    "- max_depth : 분할 횟수에 해당하는 트리의 깊이를 결정, 과대적합 방지(기본값 : 6)\n",
    "- gamma : 노드 분할을 위한 최소 손실 감소를 지정, gamma를 증가시키면 보수적인 모델이 만들어진다. \n",
    "- min_child_weight : 노드를 분할하기 위해 필요한 최소 가중치 합, 샘플 가중치 합이 이 값보다 작으면 더이상 분할하지 않는다. 과대적합 방지\n",
    "- subsample : 각 부스팅 단계에서 사용되는 훈련 샘플의 비율을 제한, 과대적합 방지\n",
    "- colsample_bytree : 각 부스팅 단계마다 사용할 특성의 비율을 제한. 특성의 영향을 제한하고 분산을 줄이는 데 유용하다. 과대적합 방지\n",
    "- colsample_bylevel : 트리 깊이마다 사용할 특성의 비율을 제한. \n",
    "- colsample_bynode : 노드를 분할할 때마다 사용할 특성의 비율을 제한"
   ]
  },
  {
   "cell_type": "code",
   "execution_count": 17,
   "id": "354c35ba",
   "metadata": {},
   "outputs": [
    {
     "name": "stdout",
     "output_type": "stream",
     "text": [
      "최상의 매개변수:  {'n_estimators': 100}\n",
      "최상의 점수: 0.78235\n"
     ]
    }
   ],
   "source": [
    "grid_search(params={'n_estimators':[100, 200, 400, 800]})"
   ]
  },
  {
   "cell_type": "code",
   "execution_count": 18,
   "id": "6d1d768c",
   "metadata": {},
   "outputs": [
    {
     "name": "stdout",
     "output_type": "stream",
     "text": [
      "최상의 매개변수:  {'learning_rate': 0.05}\n",
      "최상의 점수: 0.79585\n"
     ]
    }
   ],
   "source": [
    "grid_search(params={'learning_rate':[0.01, 0.05, 0.1, 0.2, 0.3, 0.4, 0.5]})"
   ]
  },
  {
   "cell_type": "markdown",
   "id": "99d31cac",
   "metadata": {},
   "source": [
    "## 6.3 조기 종료 적용\n",
    "반복적인 머신러닝 알고리즘의 훈련 횟수를 제한한다.  \n",
    "사전에 정한 훈련 반복 횟수를 채우지 않더라도 연속적인 n번의 반복횟수 동안에 모델이 향상되지 않으면 훈련을 중지한다.  \n",
    "- early_stopping_rounds : n_estimator 최적화\n",
    "- eval_set : 평가할 데이터셋을 지정. 예를 들면 X_test, y_test\n",
    "- eval_metric : 측정 방식을 지정. 일반적으로 분류는 'error', 회귀는 'rmse'"
   ]
  },
  {
   "cell_type": "code",
   "execution_count": 19,
   "id": "e6a3ea11",
   "metadata": {},
   "outputs": [],
   "source": [
    "from sklearn.model_selection import train_test_split\n",
    "X_train, X_test, y_train, y_test = train_test_split(X, y, random_state=2)"
   ]
  },
  {
   "cell_type": "code",
   "execution_count": 27,
   "id": "8cdf004b",
   "metadata": {},
   "outputs": [
    {
     "name": "stdout",
     "output_type": "stream",
     "text": [
      "[0]\tvalidation_0-error:0.15789\n",
      "[1]\tvalidation_0-error:0.10526\n",
      "[2]\tvalidation_0-error:0.11842\n",
      "[3]\tvalidation_0-error:0.13158\n",
      "[4]\tvalidation_0-error:0.11842\n",
      "[5]\tvalidation_0-error:0.14474\n",
      "[6]\tvalidation_0-error:0.14474\n",
      "[7]\tvalidation_0-error:0.14474\n",
      "[8]\tvalidation_0-error:0.14474\n",
      "[9]\tvalidation_0-error:0.14474\n",
      "[10]\tvalidation_0-error:0.14474\n",
      "[11]\tvalidation_0-error:0.15789\n",
      "[12]\tvalidation_0-error:0.15789\n",
      "[13]\tvalidation_0-error:0.17105\n",
      "[14]\tvalidation_0-error:0.17105\n",
      "[15]\tvalidation_0-error:0.17105\n",
      "[16]\tvalidation_0-error:0.15789\n",
      "[17]\tvalidation_0-error:0.17105\n",
      "[18]\tvalidation_0-error:0.15789\n",
      "[19]\tvalidation_0-error:0.17105\n",
      "[20]\tvalidation_0-error:0.17105\n",
      "[21]\tvalidation_0-error:0.17105\n",
      "[22]\tvalidation_0-error:0.18421\n",
      "[23]\tvalidation_0-error:0.18421\n",
      "[24]\tvalidation_0-error:0.17105\n",
      "[25]\tvalidation_0-error:0.18421\n",
      "[26]\tvalidation_0-error:0.18421\n",
      "[27]\tvalidation_0-error:0.18421\n",
      "[28]\tvalidation_0-error:0.18421\n",
      "[29]\tvalidation_0-error:0.18421\n",
      "[30]\tvalidation_0-error:0.18421\n",
      "[31]\tvalidation_0-error:0.18421\n",
      "[32]\tvalidation_0-error:0.18421\n",
      "[33]\tvalidation_0-error:0.18421\n",
      "[34]\tvalidation_0-error:0.18421\n",
      "[35]\tvalidation_0-error:0.18421\n",
      "[36]\tvalidation_0-error:0.18421\n",
      "[37]\tvalidation_0-error:0.18421\n",
      "[38]\tvalidation_0-error:0.18421\n",
      "[39]\tvalidation_0-error:0.18421\n",
      "[40]\tvalidation_0-error:0.18421\n",
      "[41]\tvalidation_0-error:0.18421\n",
      "[42]\tvalidation_0-error:0.18421\n",
      "[43]\tvalidation_0-error:0.17105\n",
      "[44]\tvalidation_0-error:0.18421\n",
      "[45]\tvalidation_0-error:0.17105\n",
      "[46]\tvalidation_0-error:0.18421\n",
      "[47]\tvalidation_0-error:0.18421\n",
      "[48]\tvalidation_0-error:0.17105\n",
      "[49]\tvalidation_0-error:0.15789\n",
      "[50]\tvalidation_0-error:0.17105\n",
      "[51]\tvalidation_0-error:0.17105\n",
      "[52]\tvalidation_0-error:0.15789\n",
      "[53]\tvalidation_0-error:0.17105\n",
      "[54]\tvalidation_0-error:0.17105\n",
      "[55]\tvalidation_0-error:0.17105\n",
      "[56]\tvalidation_0-error:0.17105\n",
      "[57]\tvalidation_0-error:0.17105\n",
      "[58]\tvalidation_0-error:0.17105\n",
      "[59]\tvalidation_0-error:0.17105\n",
      "[60]\tvalidation_0-error:0.17105\n",
      "[61]\tvalidation_0-error:0.17105\n",
      "[62]\tvalidation_0-error:0.17105\n",
      "[63]\tvalidation_0-error:0.17105\n",
      "[64]\tvalidation_0-error:0.17105\n",
      "[65]\tvalidation_0-error:0.17105\n",
      "[66]\tvalidation_0-error:0.18421\n",
      "[67]\tvalidation_0-error:0.18421\n",
      "[68]\tvalidation_0-error:0.18421\n",
      "[69]\tvalidation_0-error:0.18421\n",
      "[70]\tvalidation_0-error:0.18421\n",
      "[71]\tvalidation_0-error:0.18421\n",
      "[72]\tvalidation_0-error:0.18421\n",
      "[73]\tvalidation_0-error:0.18421\n",
      "[74]\tvalidation_0-error:0.17105\n",
      "[75]\tvalidation_0-error:0.18421\n",
      "[76]\tvalidation_0-error:0.17105\n",
      "[77]\tvalidation_0-error:0.18421\n",
      "[78]\tvalidation_0-error:0.15789\n",
      "[79]\tvalidation_0-error:0.17105\n",
      "[80]\tvalidation_0-error:0.15789\n",
      "[81]\tvalidation_0-error:0.15789\n",
      "[82]\tvalidation_0-error:0.15789\n",
      "[83]\tvalidation_0-error:0.15789\n",
      "[84]\tvalidation_0-error:0.15789\n",
      "[85]\tvalidation_0-error:0.15789\n",
      "[86]\tvalidation_0-error:0.15789\n",
      "[87]\tvalidation_0-error:0.15789\n",
      "[88]\tvalidation_0-error:0.15789\n",
      "[89]\tvalidation_0-error:0.15789\n",
      "[90]\tvalidation_0-error:0.15789\n",
      "[91]\tvalidation_0-error:0.15789\n",
      "[92]\tvalidation_0-error:0.15789\n",
      "[93]\tvalidation_0-error:0.17105\n",
      "[94]\tvalidation_0-error:0.17105\n",
      "[95]\tvalidation_0-error:0.17105\n",
      "[96]\tvalidation_0-error:0.17105\n",
      "[97]\tvalidation_0-error:0.17105\n",
      "[98]\tvalidation_0-error:0.17105\n",
      "[99]\tvalidation_0-error:0.17105\n"
     ]
    },
    {
     "data": {
      "text/plain": [
       "XGBClassifier(base_score=None, booster='gbtree', callbacks=None,\n",
       "              colsample_bylevel=None, colsample_bynode=None,\n",
       "              colsample_bytree=None, early_stopping_rounds=None,\n",
       "              enable_categorical=False, eval_metric='error', feature_types=None,\n",
       "              gamma=None, gpu_id=None, grow_policy=None, importance_type=None,\n",
       "              interaction_constraints=None, learning_rate=None, max_bin=None,\n",
       "              max_cat_threshold=None, max_cat_to_onehot=None,\n",
       "              max_delta_step=None, max_depth=None, max_leaves=None,\n",
       "              min_child_weight=None, missing=nan, monotone_constraints=None,\n",
       "              n_estimators=100, n_jobs=None, num_parallel_tree=None,\n",
       "              predictor=None, random_state=None, ...)"
      ]
     },
     "execution_count": 27,
     "metadata": {},
     "output_type": "execute_result"
    }
   ],
   "source": [
    "model = XGBClassifier(booster='gbtree', objective='binary:logistic', eval_metric='error')\n",
    "eval_set = [(X_test, y_test)]\n",
    "\n",
    "model.fit(X_train, y_train, eval_set=eval_set)"
   ]
  },
  {
   "cell_type": "code",
   "execution_count": 28,
   "id": "05b73a5b",
   "metadata": {},
   "outputs": [
    {
     "name": "stdout",
     "output_type": "stream",
     "text": [
      "정확도 : 82.89\n"
     ]
    }
   ],
   "source": [
    "y_pred = model.predict(X_test)\n",
    "accuracy = accuracy_score(y_test, y_pred)\n",
    "print(f'정확도 : {accuracy * 100:.2f}')"
   ]
  },
  {
   "cell_type": "code",
   "execution_count": 29,
   "id": "b158206c",
   "metadata": {},
   "outputs": [
    {
     "name": "stdout",
     "output_type": "stream",
     "text": [
      "[0]\tvalidation_0-error:0.15789\n",
      "[1]\tvalidation_0-error:0.10526\n",
      "[2]\tvalidation_0-error:0.11842\n",
      "[3]\tvalidation_0-error:0.13158\n",
      "[4]\tvalidation_0-error:0.11842\n",
      "[5]\tvalidation_0-error:0.14474\n",
      "[6]\tvalidation_0-error:0.14474\n",
      "[7]\tvalidation_0-error:0.14474\n",
      "[8]\tvalidation_0-error:0.14474\n",
      "[9]\tvalidation_0-error:0.14474\n",
      "[10]\tvalidation_0-error:0.14474\n",
      "정확도 : 89.47\n"
     ]
    }
   ],
   "source": [
    "model = XGBClassifier(booster='gbtree', objective='binary:logistic', eval_metric='error', early_stopping_rounds=10)\n",
    "eval_set = [(X_test, y_test)]\n",
    "\n",
    "model.fit(X_train, y_train, eval_set=eval_set, verbose=True)\n",
    "\n",
    "y_pred = model.predict(X_test)\n",
    "accuracy = accuracy_score(y_test, y_pred)\n",
    "print(f'정확도 : {accuracy * 100:.2f}')"
   ]
  },
  {
   "cell_type": "code",
   "execution_count": 31,
   "id": "74371e18",
   "metadata": {},
   "outputs": [
    {
     "name": "stdout",
     "output_type": "stream",
     "text": [
      "[0]\tvalidation_0-error:0.15789\n",
      "[1]\tvalidation_0-error:0.10526\n",
      "[2]\tvalidation_0-error:0.11842\n",
      "[3]\tvalidation_0-error:0.13158\n",
      "[4]\tvalidation_0-error:0.11842\n",
      "[5]\tvalidation_0-error:0.14474\n",
      "[6]\tvalidation_0-error:0.14474\n",
      "[7]\tvalidation_0-error:0.14474\n",
      "[8]\tvalidation_0-error:0.14474\n",
      "[9]\tvalidation_0-error:0.14474\n",
      "[10]\tvalidation_0-error:0.14474\n",
      "[11]\tvalidation_0-error:0.15789\n",
      "[12]\tvalidation_0-error:0.15789\n",
      "[13]\tvalidation_0-error:0.17105\n",
      "[14]\tvalidation_0-error:0.17105\n",
      "[15]\tvalidation_0-error:0.17105\n",
      "[16]\tvalidation_0-error:0.15789\n",
      "[17]\tvalidation_0-error:0.17105\n",
      "[18]\tvalidation_0-error:0.15789\n",
      "[19]\tvalidation_0-error:0.17105\n",
      "[20]\tvalidation_0-error:0.17105\n",
      "[21]\tvalidation_0-error:0.17105\n",
      "[22]\tvalidation_0-error:0.18421\n",
      "[23]\tvalidation_0-error:0.18421\n",
      "[24]\tvalidation_0-error:0.17105\n",
      "[25]\tvalidation_0-error:0.18421\n",
      "[26]\tvalidation_0-error:0.18421\n",
      "[27]\tvalidation_0-error:0.18421\n",
      "[28]\tvalidation_0-error:0.18421\n",
      "[29]\tvalidation_0-error:0.18421\n",
      "[30]\tvalidation_0-error:0.18421\n",
      "[31]\tvalidation_0-error:0.18421\n",
      "[32]\tvalidation_0-error:0.18421\n",
      "[33]\tvalidation_0-error:0.18421\n",
      "[34]\tvalidation_0-error:0.18421\n",
      "[35]\tvalidation_0-error:0.18421\n",
      "[36]\tvalidation_0-error:0.18421\n",
      "[37]\tvalidation_0-error:0.18421\n",
      "[38]\tvalidation_0-error:0.18421\n",
      "[39]\tvalidation_0-error:0.18421\n",
      "[40]\tvalidation_0-error:0.18421\n",
      "[41]\tvalidation_0-error:0.18421\n",
      "[42]\tvalidation_0-error:0.18421\n",
      "[43]\tvalidation_0-error:0.17105\n",
      "[44]\tvalidation_0-error:0.18421\n",
      "[45]\tvalidation_0-error:0.17105\n",
      "[46]\tvalidation_0-error:0.18421\n",
      "[47]\tvalidation_0-error:0.18421\n",
      "[48]\tvalidation_0-error:0.17105\n",
      "[49]\tvalidation_0-error:0.15789\n",
      "[50]\tvalidation_0-error:0.17105\n",
      "[51]\tvalidation_0-error:0.17105\n",
      "[52]\tvalidation_0-error:0.15789\n",
      "[53]\tvalidation_0-error:0.17105\n",
      "[54]\tvalidation_0-error:0.17105\n",
      "[55]\tvalidation_0-error:0.17105\n",
      "[56]\tvalidation_0-error:0.17105\n",
      "[57]\tvalidation_0-error:0.17105\n",
      "[58]\tvalidation_0-error:0.17105\n",
      "[59]\tvalidation_0-error:0.17105\n",
      "[60]\tvalidation_0-error:0.17105\n",
      "[61]\tvalidation_0-error:0.17105\n",
      "[62]\tvalidation_0-error:0.17105\n",
      "[63]\tvalidation_0-error:0.17105\n",
      "[64]\tvalidation_0-error:0.17105\n",
      "[65]\tvalidation_0-error:0.17105\n",
      "[66]\tvalidation_0-error:0.18421\n",
      "[67]\tvalidation_0-error:0.18421\n",
      "[68]\tvalidation_0-error:0.18421\n",
      "[69]\tvalidation_0-error:0.18421\n",
      "[70]\tvalidation_0-error:0.18421\n",
      "[71]\tvalidation_0-error:0.18421\n",
      "[72]\tvalidation_0-error:0.18421\n",
      "[73]\tvalidation_0-error:0.18421\n",
      "[74]\tvalidation_0-error:0.17105\n",
      "[75]\tvalidation_0-error:0.18421\n",
      "[76]\tvalidation_0-error:0.17105\n",
      "[77]\tvalidation_0-error:0.18421\n",
      "[78]\tvalidation_0-error:0.15789\n",
      "[79]\tvalidation_0-error:0.17105\n",
      "[80]\tvalidation_0-error:0.15789\n",
      "[81]\tvalidation_0-error:0.15789\n",
      "[82]\tvalidation_0-error:0.15789\n",
      "[83]\tvalidation_0-error:0.15789\n",
      "[84]\tvalidation_0-error:0.15789\n",
      "[85]\tvalidation_0-error:0.15789\n",
      "[86]\tvalidation_0-error:0.15789\n",
      "[87]\tvalidation_0-error:0.15789\n",
      "[88]\tvalidation_0-error:0.15789\n",
      "[89]\tvalidation_0-error:0.15789\n",
      "[90]\tvalidation_0-error:0.15789\n",
      "[91]\tvalidation_0-error:0.15789\n",
      "[92]\tvalidation_0-error:0.15789\n",
      "[93]\tvalidation_0-error:0.17105\n",
      "[94]\tvalidation_0-error:0.17105\n",
      "[95]\tvalidation_0-error:0.17105\n",
      "[96]\tvalidation_0-error:0.17105\n",
      "[97]\tvalidation_0-error:0.17105\n",
      "[98]\tvalidation_0-error:0.17105\n",
      "[99]\tvalidation_0-error:0.17105\n",
      "[100]\tvalidation_0-error:0.17105\n",
      "[101]\tvalidation_0-error:0.17105\n",
      "정확도 : 89.47\n"
     ]
    }
   ],
   "source": [
    "model = XGBClassifier(n_estimators=5000, booster='gbtree', objective='binary:logistic', \n",
    "                      eval_metric='error', \n",
    "                      early_stopping_rounds=100)\n",
    "eval_set = [(X_test, y_test)]\n",
    "\n",
    "model.fit(X_train, y_train, eval_set=eval_set, verbose=True)\n",
    "\n",
    "y_pred = model.predict(X_test)\n",
    "accuracy = accuracy_score(y_test, y_pred)\n",
    "print(f'정확도 : {accuracy * 100:.2f}')"
   ]
  },
  {
   "cell_type": "markdown",
   "id": "71d47fa2",
   "metadata": {},
   "source": [
    "## 6.4 하이퍼파라미터 결합"
   ]
  },
  {
   "cell_type": "code",
   "execution_count": 33,
   "id": "9a00b62b",
   "metadata": {},
   "outputs": [
    {
     "name": "stdout",
     "output_type": "stream",
     "text": [
      "최상의 매개변수:  {'learning_rate': 0.5, 'max_depth': 2, 'min_child_weight': 4, 'n_estimators': 2, 'subsample': 0.9}\n",
      "최상의 점수: 0.81224\n"
     ]
    }
   ],
   "source": [
    "grid_search(params={'subsample':[0.5, 0.6, 0.7, 0.8, 0.9, 1],\n",
    "                    'min_child_weight':[1, 2, 3, 4, 5],\n",
    "                    'learning_rate':[0.1, 0.2, 0.3, 0.4, 0.5],\n",
    "                    'max_depth':[1, 2, 3, 4, 5],\n",
    "                    'n_estimators':[2]})"
   ]
  },
  {
   "cell_type": "code",
   "execution_count": 35,
   "id": "a89042ab",
   "metadata": {},
   "outputs": [
    {
     "name": "stdout",
     "output_type": "stream",
     "text": [
      "최상의 매개변수:  {'subsample': 0.6, 'n_estimators': 25, 'min_child_weight': 4, 'max_depth': 4, 'learning_rate': 0.5}\n",
      "최상의 점수: 0.82208\n"
     ]
    }
   ],
   "source": [
    "grid_search(params={'subsample':[0.5, 0.6, 0.7, 0.8, 0.9, 1],\n",
    "                    'min_child_weight':[1, 2, 3, 4, 5],\n",
    "                    'learning_rate':[0.1, 0.2, 0.3, 0.4, 0.5],\n",
    "                    'max_depth':[1, 2, 3, 4, 5, None],\n",
    "                    'n_estimators':[2, 25, 50, 75, 100]}, random=True)"
   ]
  },
  {
   "cell_type": "code",
   "execution_count": null,
   "id": "a5f66609",
   "metadata": {},
   "outputs": [],
   "source": []
  }
 ],
 "metadata": {
  "kernelspec": {
   "display_name": "Python 3 (ipykernel)",
   "language": "python",
   "name": "python3"
  },
  "language_info": {
   "codemirror_mode": {
    "name": "ipython",
    "version": 3
   },
   "file_extension": ".py",
   "mimetype": "text/x-python",
   "name": "python",
   "nbconvert_exporter": "python",
   "pygments_lexer": "ipython3",
   "version": "3.9.13"
  }
 },
 "nbformat": 4,
 "nbformat_minor": 5
}
