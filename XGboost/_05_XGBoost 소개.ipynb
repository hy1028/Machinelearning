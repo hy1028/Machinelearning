{
 "cells": [
  {
   "cell_type": "markdown",
   "id": "6ee0ff6b",
   "metadata": {},
   "source": [
    "- XGBoost 구조\n",
    "- XGBoost 매개변수 분석\n",
    "- XGBoost 모델 만들기\n",
    "- 힉스 보손 찾기 - 사례 연구"
   ]
  },
  {
   "cell_type": "markdown",
   "id": "930fbc90",
   "metadata": {},
   "source": [
    "## 5.1 XGBoost 구조\n",
    "### 5.1.1 역사\n",
    "그레이디언트 부스팅의 일관성, 성능, 뛰어난 결과를 더 향상시킨 알고리즘, 익스트림 그레이디언트 부스팅의 줄임말이다. \n",
    "### 5.1.2 주요 기능\n",
    "익스트림 그레이디언트 부스팅의 익스트림은 계산 능력을 극대화한다는 의미\n",
    "##### 누락된 값 처리\n",
    "XGBoost는 자체적으로 누락된 값을 처리할 수 있다.  \n",
    "누락된 값이 있을 때 XGBoost는 가능한 노드 분할마다 점수를 매겨 최상의 결과를 내는 분할을 선택한다.  \n",
    "(누락된 값을 왼쪽 자식 노드나 오른쪽 자식 노드로 보냈을 경우 중에서 더 좋은 결과를 선택한다.)\n",
    "##### 속도 향상\n",
    "XGBoost는 특히 속도에 주안점을 두어 설계되었다.  \n",
    "- 근사 분할 탐색 알고리즘\n",
    "- 희소성 고려 분할 탐색\n",
    "- 병렬 컴퓨팅\n",
    "- 캐시 고려 접근\n",
    "- 블록 압축과 샤딩 \n",
    "\n",
    "##### 정확도 향상\n",
    "XGBoost는 자체적으로 규제를 추가하여 그레이디언트 부스팅 이상으로 정확도를 높인다.  \n",
    "규제는 분산을 줄이고 과대적합을 방지하기 위한 방법이다.  \n",
    "즉 XGBoost는 그레이디언트 부스팅의 규제 버전이다. \n",
    "\n",
    "## 5.2 XGBoost 파라미터 최적화 \n",
    "### 5.2.1 학습 목적\n",
    "머신러닝 모델의 목적 함수는 모델이 얼마나 데이터에 잘 맞는지를 결정한다.  \n",
    "XGBoost의 목적 함수는 손실 함수(loss function)와 규제 항(regularization term)으로 구성되어 있음 \n"
   ]
  },
  {
   "cell_type": "code",
   "execution_count": null,
   "id": "b764cd1a",
   "metadata": {},
   "outputs": [],
   "source": []
  }
 ],
 "metadata": {
  "kernelspec": {
   "display_name": "Python 3 (ipykernel)",
   "language": "python",
   "name": "python3"
  },
  "language_info": {
   "codemirror_mode": {
    "name": "ipython",
    "version": 3
   },
   "file_extension": ".py",
   "mimetype": "text/x-python",
   "name": "python",
   "nbconvert_exporter": "python",
   "pygments_lexer": "ipython3",
   "version": "3.9.13"
  }
 },
 "nbformat": 4,
 "nbformat_minor": 5
}
